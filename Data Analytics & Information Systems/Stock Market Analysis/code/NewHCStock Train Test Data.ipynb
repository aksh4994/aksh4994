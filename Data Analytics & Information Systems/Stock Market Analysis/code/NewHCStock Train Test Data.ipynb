{
  "nbformat": 4,
  "nbformat_minor": 0,
  "metadata": {
    "colab": {
      "name": "Untitled6.ipynb",
      "provenance": []
    },
    "kernelspec": {
      "name": "python3",
      "display_name": "Python 3"
    },
    "language_info": {
      "name": "python"
    }
  },
  "cells": [
    {
      "cell_type": "code",
      "source": [
        "# Spark init\n",
        "!wget -q https://dlcdn.apache.org/spark/spark-3.1.2/spark-3.1.2-bin-hadoop2.7.tgz \n",
        "!tar xf spark-3.1.2-bin-hadoop2.7.tgz\n",
        "import os\n",
        "os.environ[\"JAVA_HOME\"] = \"/usr/lib/jvm/default-java\"\n",
        "os.environ[\"SPARK_HOME\"] = \"/content/spark-3.1.2-bin-hadoop2.7\"\n",
        "!pip install -q findspark\n",
        "import findspark\n",
        "findspark.init()\n",
        "\n",
        "from pyspark.sql import SparkSession\n",
        "spark = SparkSession.builder\\\n",
        "        .master(\"local\")\\\n",
        "        .appName(\"Colab\")\\\n",
        "        .config('spark.ui.port', '4050')\\\n",
        "        .getOrCreate()"
      ],
      "metadata": {
        "id": "UssmhHtjV8R1"
      },
      "execution_count": 1,
      "outputs": []
    },
    {
      "cell_type": "code",
      "execution_count": 2,
      "metadata": {
        "colab": {
          "base_uri": "https://localhost:8080/"
        },
        "id": "-i_WGhRpVwCi",
        "outputId": "b7795eb7-2da8-4233-b07b-541ffd9331ac"
      },
      "outputs": [
        {
          "output_type": "stream",
          "name": "stdout",
          "text": [
            "[nltk_data] Downloading package vader_lexicon to /root/nltk_data...\n",
            "[nltk_data]   Package vader_lexicon is already up-to-date!\n"
          ]
        },
        {
          "output_type": "stream",
          "name": "stderr",
          "text": [
            "/usr/local/lib/python3.7/dist-packages/nltk/twitter/__init__.py:20: UserWarning: The twython library has not been installed. Some functionality from the twitter package will not be available.\n",
            "  warnings.warn(\"The twython library has not been installed. \"\n"
          ]
        }
      ],
      "source": [
        "import pandas as pd\n",
        "import nltk\n",
        "nltk.download('vader_lexicon')\n",
        "from nltk.sentiment.vader import SentimentIntensityAnalyzer\n",
        "sia=SentimentIntensityAnalyzer()"
      ]
    },
    {
      "cell_type": "code",
      "source": [
        "import pyspark\n",
        "from pyspark.sql.types import StructField\n",
        "from pyspark.sql.types import *\n",
        "\n",
        "custom_schema = StructType([\n",
        "        StructField(\"Headline\", StringType(), True),\n",
        "        StructField(\"Date\", StringType(), True),\n",
        "        StructField(\"Doc_type\", StringType(), True),\n",
        "        StructField(\"URL\", StringType(), True), \n",
        "        StructField(\"snippet\", StringType(), True),\n",
        "        StructField(\"keywords\", StringType(), True)\n",
        "    ])\n"
      ],
      "metadata": {
        "id": "MZXproUaulr4"
      },
      "execution_count": 3,
      "outputs": []
    },
    {
      "cell_type": "code",
      "source": [
        "df_news = df = spark.read.csv(\"/content/drive/MyDrive/data/2020-22 NYT Headlines.csv\", sep=',', schema = custom_schema, header=True)\n"
      ],
      "metadata": {
        "id": "-eekHYxoVyhi"
      },
      "execution_count": 4,
      "outputs": []
    },
    {
      "cell_type": "code",
      "source": [
        "df_news.show()"
      ],
      "metadata": {
        "colab": {
          "base_uri": "https://localhost:8080/"
        },
        "id": "-11iHcGwV_w4",
        "outputId": "2fa49f8b-1e06-4850-8724-55e8df71e2d5"
      },
      "execution_count": 5,
      "outputs": [
        {
          "output_type": "stream",
          "name": "stdout",
          "text": [
            "+--------------------+----------+--------+--------------------+--------------------+--------------------+\n",
            "|            Headline|      Date|Doc_type|                 URL|             snippet|            keywords|\n",
            "+--------------------+----------+--------+--------------------+--------------------+--------------------+\n",
            "|Already Had Plent...|2020-01-02| article|https://www.nytim...|He’s a bad show, ...|['Presidential El...|\n",
            "|Why Did One-Quart...|2020-01-02| article|https://www.nytim...|Swine fever devas...|['Pigs', 'Agricul...|\n",
            "|Coast Guard Suspe...|2020-01-02| article|https://www.nytim...|Two of seven crew...|['Rescues', 'Mari...|\n",
            "|N.B.A. Superstars...|2020-01-02| article|https://www.nytim...|The longtime comm...|      ['Basketball']|\n",
            "|In Rose Bowl Vict...|2020-01-02| article|https://www.nytim...|The Ducks managed...|['Football (Colle...|\n",
            "|Where Darth Vader...|2020-01-02| article|https://www.nytim...|Ed Sessa turns th...|['Crossword Puzzl...|\n",
            "|Don Larsen, Yanke...|2020-01-02| article|https://www.nytim...|He retired after ...|['Deaths (Obituar...|\n",
            "|No Corrections: J...|2020-01-02| article|https://www.nytim...|No corrections ap...|                  []|\n",
            "|India Cold Wave B...|2020-01-02| article|https://www.nytim...|Across the north,...|['Weather', 'Traf...|\n",
            "|Quotation of the ...|2020-01-02| article|https://www.nytim...|Quotation of the ...|                  []|\n",
            "|Head-Scarf Ban an...|2020-01-02| article|https://www.nytim...|After months of t...|['Elections', 'Le...|\n",
            "|Your Thursday Bri...|2020-01-02| article|https://www.nytim...|Austria, Australi...|                  []|\n",
            "|What’s on TV Thur...|2020-01-02| article|https://www.nytim...|A drama based on ...|['Television', 'M...|\n",
            "|Word + Quiz: subsume|2020-01-02| article|https://www.nytim...|This word has app...|                  []|\n",
            "|Taiwan’s Top Mili...|2020-01-02| article|https://www.nytim...|The helicopter wa...|['Defense and Mil...|\n",
            "|  New Year, New You?|2020-01-02| article|https://www.nytim...|What are your res...|                  []|\n",
            "|‘Surviving R. Kel...|2020-01-02| article|https://www.nytim...|A new Lifetime se...|['Television', 'D...|\n",
            "|How David Stern N...|2020-01-02| article|https://www.nytim...|Stern was known a...|['Basketball', 'B...|\n",
            "|Flash Floods in I...|2020-01-02| article|https://www.nytim...|At least 43 peopl...|['Floods', 'New Y...|\n",
            "|Lesson of the Day...|2020-01-02| article|https://www.nytim...|In this lesson, s...|                  []|\n",
            "+--------------------+----------+--------+--------------------+--------------------+--------------------+\n",
            "only showing top 20 rows\n",
            "\n"
          ]
        }
      ]
    },
    {
      "cell_type": "code",
      "source": [
        "df_news.describe()"
      ],
      "metadata": {
        "colab": {
          "base_uri": "https://localhost:8080/"
        },
        "id": "AvtsJhtHilxs",
        "outputId": "16d33834-d0d3-46b7-fd8b-38910a0799cf"
      },
      "execution_count": 6,
      "outputs": [
        {
          "output_type": "execute_result",
          "data": {
            "text/plain": [
              "DataFrame[summary: string, Headline: string, Date: string, Doc_type: string, URL: string, snippet: string, keywords: string]"
            ]
          },
          "metadata": {},
          "execution_count": 6
        }
      ]
    },
    {
      "cell_type": "code",
      "source": [
        "from pyspark.sql.functions import to_date\n",
        " \n",
        "df = df_news.withColumn('Date',to_date(df_news.Date, 'yyyy-MM-dd'))\n",
        "\n",
        "df.printSchema()\n"
      ],
      "metadata": {
        "colab": {
          "base_uri": "https://localhost:8080/"
        },
        "id": "SkKhT8VTiqqv",
        "outputId": "d5cb0b29-cbbd-4243-aea1-137165493efe"
      },
      "execution_count": 7,
      "outputs": [
        {
          "output_type": "stream",
          "name": "stdout",
          "text": [
            "root\n",
            " |-- Headline: string (nullable = true)\n",
            " |-- Date: date (nullable = true)\n",
            " |-- Doc_type: string (nullable = true)\n",
            " |-- URL: string (nullable = true)\n",
            " |-- snippet: string (nullable = true)\n",
            " |-- keywords: string (nullable = true)\n",
            "\n"
          ]
        }
      ]
    },
    {
      "cell_type": "code",
      "source": [
        "df.show()"
      ],
      "metadata": {
        "colab": {
          "base_uri": "https://localhost:8080/"
        },
        "id": "JeBC9XF32Pg4",
        "outputId": "54df8e9c-2037-46d9-9ee4-4d95b29cd0e2"
      },
      "execution_count": 8,
      "outputs": [
        {
          "output_type": "stream",
          "name": "stdout",
          "text": [
            "+--------------------+----------+--------+--------------------+--------------------+--------------------+\n",
            "|            Headline|      Date|Doc_type|                 URL|             snippet|            keywords|\n",
            "+--------------------+----------+--------+--------------------+--------------------+--------------------+\n",
            "|Already Had Plent...|2020-01-02| article|https://www.nytim...|He’s a bad show, ...|['Presidential El...|\n",
            "|Why Did One-Quart...|2020-01-02| article|https://www.nytim...|Swine fever devas...|['Pigs', 'Agricul...|\n",
            "|Coast Guard Suspe...|2020-01-02| article|https://www.nytim...|Two of seven crew...|['Rescues', 'Mari...|\n",
            "|N.B.A. Superstars...|2020-01-02| article|https://www.nytim...|The longtime comm...|      ['Basketball']|\n",
            "|In Rose Bowl Vict...|2020-01-02| article|https://www.nytim...|The Ducks managed...|['Football (Colle...|\n",
            "|Where Darth Vader...|2020-01-02| article|https://www.nytim...|Ed Sessa turns th...|['Crossword Puzzl...|\n",
            "|Don Larsen, Yanke...|2020-01-02| article|https://www.nytim...|He retired after ...|['Deaths (Obituar...|\n",
            "|No Corrections: J...|2020-01-02| article|https://www.nytim...|No corrections ap...|                  []|\n",
            "|India Cold Wave B...|2020-01-02| article|https://www.nytim...|Across the north,...|['Weather', 'Traf...|\n",
            "|Quotation of the ...|2020-01-02| article|https://www.nytim...|Quotation of the ...|                  []|\n",
            "|Head-Scarf Ban an...|2020-01-02| article|https://www.nytim...|After months of t...|['Elections', 'Le...|\n",
            "|Your Thursday Bri...|2020-01-02| article|https://www.nytim...|Austria, Australi...|                  []|\n",
            "|What’s on TV Thur...|2020-01-02| article|https://www.nytim...|A drama based on ...|['Television', 'M...|\n",
            "|Word + Quiz: subsume|2020-01-02| article|https://www.nytim...|This word has app...|                  []|\n",
            "|Taiwan’s Top Mili...|2020-01-02| article|https://www.nytim...|The helicopter wa...|['Defense and Mil...|\n",
            "|  New Year, New You?|2020-01-02| article|https://www.nytim...|What are your res...|                  []|\n",
            "|‘Surviving R. Kel...|2020-01-02| article|https://www.nytim...|A new Lifetime se...|['Television', 'D...|\n",
            "|How David Stern N...|2020-01-02| article|https://www.nytim...|Stern was known a...|['Basketball', 'B...|\n",
            "|Flash Floods in I...|2020-01-02| article|https://www.nytim...|At least 43 peopl...|['Floods', 'New Y...|\n",
            "|Lesson of the Day...|2020-01-02| article|https://www.nytim...|In this lesson, s...|                  []|\n",
            "+--------------------+----------+--------+--------------------+--------------------+--------------------+\n",
            "only showing top 20 rows\n",
            "\n"
          ]
        }
      ]
    },
    {
      "cell_type": "code",
      "source": [
        "custom_schema = StructType([\n",
        "        StructField(\"Date\", StringType(), True),\n",
        "        StructField(\"Time\", StringType(), True),\n",
        "        StructField(\"Open\", FloatType(), True),\n",
        "        StructField(\"High\", FloatType(), True), \n",
        "        StructField(\"Low\", FloatType(), True),\n",
        "        StructField(\"Close\", FloatType(), True)\n",
        "    ])"
      ],
      "metadata": {
        "id": "i6wVjOwlQVg-"
      },
      "execution_count": 9,
      "outputs": []
    },
    {
      "cell_type": "code",
      "source": [
        "df_hc = spark.read.csv(\"/content/drive/MyDrive/data/HC_AZN.csv\", sep=',', schema = custom_schema, header=True)"
      ],
      "metadata": {
        "id": "nX5burTg2RTj"
      },
      "execution_count": 10,
      "outputs": []
    },
    {
      "cell_type": "code",
      "source": [
        "df_hc.show()"
      ],
      "metadata": {
        "colab": {
          "base_uri": "https://localhost:8080/"
        },
        "id": "2vOybiMirv1Y",
        "outputId": "d5031cf4-820d-433b-f23a-6ca9690b6d42"
      },
      "execution_count": 11,
      "outputs": [
        {
          "output_type": "stream",
          "name": "stdout",
          "text": [
            "+----------+--------+-----+-----+-----+-----+\n",
            "|      Date|    Time| Open| High|  Low|Close|\n",
            "+----------+--------+-----+-----+-----+-----+\n",
            "|2022-03-21|16:11:00|63.48|63.48|63.48|63.48|\n",
            "|2022-03-21|16:06:00|63.48|63.48|63.48|63.48|\n",
            "|2022-03-21|16:03:00|63.48|63.48|63.48|63.48|\n",
            "|2022-03-21|16:02:00|63.48|63.48|63.48|63.48|\n",
            "|2022-03-21|16:01:00|63.48|63.48|63.48|63.48|\n",
            "|2022-03-21|16:00:00|63.48| 63.5|63.46|63.49|\n",
            "|2022-03-21|15:59:00|63.48| 63.5|63.47|63.48|\n",
            "|2022-03-21|15:58:00|63.45|63.49|63.45|63.48|\n",
            "|2022-03-21|15:57:00|63.46|63.47|63.44|63.44|\n",
            "|2022-03-21|15:56:00|63.46|63.47|63.42|63.46|\n",
            "|2022-03-21|15:55:00|63.48|63.49|63.46|63.46|\n",
            "|2022-03-21|15:54:00|63.48|63.49|63.46|63.48|\n",
            "|2022-03-21|15:53:00|63.48| 63.5|63.46|63.48|\n",
            "|2022-03-21|15:52:00|63.44|63.48|63.43|63.48|\n",
            "|2022-03-21|15:51:00|63.38|63.46|63.38|63.43|\n",
            "|2022-03-21|15:50:00|63.39|63.39|63.36|63.38|\n",
            "|2022-03-21|15:49:00|63.42|63.43|63.38|63.38|\n",
            "|2022-03-21|15:48:00|63.42|63.43| 63.4|63.42|\n",
            "|2022-03-21|15:47:00| 63.4|63.43|63.39|63.42|\n",
            "|2022-03-21|15:46:00|63.41|63.42| 63.4| 63.4|\n",
            "+----------+--------+-----+-----+-----+-----+\n",
            "only showing top 20 rows\n",
            "\n"
          ]
        }
      ]
    },
    {
      "cell_type": "code",
      "source": [
        "df_merged = df_hc.join(df_news,on='Date')\n",
        "df_merged.head()"
      ],
      "metadata": {
        "colab": {
          "base_uri": "https://localhost:8080/"
        },
        "id": "3J3hToScryH_",
        "outputId": "e7ae89bf-bf8e-4ff6-cf9b-25e3cd26710f"
      },
      "execution_count": 12,
      "outputs": [
        {
          "output_type": "execute_result",
          "data": {
            "text/plain": [
              "Row(Date='2020-04-13', Time='16:23:00', Open=44.93000030517578, High=44.93000030517578, Low=44.93000030517578, Close=44.93000030517578, Headline='Bob Iger Thought He Was Leaving on Top. Now, He’s Fighting for Disney’s Life.', Doc_type='article', URL='https://www.nytimes.com/2020/04/12/business/media/disney-ceo-coronavirus.html', snippet='The former C.E.O. thought he was riding into the sunset. Now he’s reasserting control and reimagining Disney as a company with fewer employees and more thermometers.', keywords=\"['Coronavirus (2019-nCoV)', 'Media']\")"
            ]
          },
          "metadata": {},
          "execution_count": 12
        }
      ]
    },
    {
      "cell_type": "code",
      "source": [
        "df_merged.distinct().show()"
      ],
      "metadata": {
        "colab": {
          "base_uri": "https://localhost:8080/"
        },
        "id": "jj4NPGv4vko0",
        "outputId": "1d5f2e70-be1b-4c71-b836-ddda39ff6a75"
      },
      "execution_count": 13,
      "outputs": [
        {
          "output_type": "stream",
          "name": "stdout",
          "text": [
            "+----------+--------+-----+-----+-----+-----+--------------------+----------+--------------------+--------------------+--------------------+\n",
            "|      Date|    Time| Open| High|  Low|Close|            Headline|  Doc_type|                 URL|             snippet|            keywords|\n",
            "+----------+--------+-----+-----+-----+-----+--------------------+----------+--------------------+--------------------+--------------------+\n",
            "|2020-04-13|16:23:00|44.93|44.93|44.93|44.93|Bob Iger Thought ...|   article|https://www.nytim...|The former C.E.O....|['Coronavirus (20...|\n",
            "|2020-04-13|16:23:00|44.93|44.93|44.93|44.93|A Corporate Merge...|   article|https://www.nytim...|The United States...|['Mergers, Acquis...|\n",
            "|2020-04-13|16:23:00|44.93|44.93|44.93|44.93|Trump Lashes Out ...|   article|https://www.nytim...|The president ret...|['Coronavirus (20...|\n",
            "|2020-04-13|16:23:00|44.93|44.93|44.93|44.93|‘Westworld’ Seaso...|   article|https://www.nytim...|This season is be...|      ['Television']|\n",
            "|2020-04-13|16:23:00|44.93|44.93|44.93|44.93|Small Chloroquine...|   article|https://www.nytim...|A research trial ...|['Hydroxychloroqu...|\n",
            "|2020-04-13|16:23:00|44.93|44.93|44.93|44.93|Quotation of the ...|   article|https://www.nytim...|Quotation of the ...|                  []|\n",
            "|2020-04-13|16:23:00|44.93|44.93|44.93|44.93|No Corrections: A...|   article|https://www.nytim...|No corrections ap...|                  []|\n",
            "|2020-04-13|16:23:00|44.93|44.93|44.93|44.93|Enrique Olvera an...|multimedia|https://www.nytim...|The influential c...|['Chefs', 'Food',...|\n",
            "|2020-04-13|16:23:00|44.93|44.93|44.93|44.93|How ACT UP Remade...|multimedia|https://www.nytim...|The coalition tha...|['Acquired Immune...|\n",
            "|2020-04-13|16:23:00|44.93|44.93|44.93|44.93|Enrique Olvera’s ...|   article|https://www.nytim...|The chef shares h...|['Cooking and Coo...|\n",
            "|2020-04-13|16:23:00|44.93|44.93|44.93|44.93|12 People on Join...|   article|https://www.nytim...|A dozen participa...|['Acquired Immune...|\n",
            "|2020-04-13|16:23:00|44.93|44.93|44.93|44.93|Lockdowns in Fran...|   article|https://www.nytim...|President Vladimi...|['Coronavirus (20...|\n",
            "|2020-04-13|16:23:00|44.93|44.93|44.93|44.93|Coronavirus, Bori...|   article|https://www.nytim...|Here’s what you n...|                  []|\n",
            "|2020-04-13|16:23:00|44.93|44.93|44.93|44.93|The Asian-America...|multimedia|https://www.nytim...|Kimora Lee Simmon...|['Asian-Americans...|\n",
            "|2020-04-13|16:23:00|44.93|44.93|44.93|44.93|Watch Mary Ping C...|   article|https://www.nytim...|The fashion desig...|['Fashion and App...|\n",
            "|2020-04-13|16:23:00|44.93|44.93|44.93|44.93|The Butches and S...|multimedia|https://www.nytim...|Without their pre...|['Homosexuality a...|\n",
            "|2020-04-13|16:23:00|44.93|44.93|44.93|44.93|The New Generatio...|multimedia|https://www.nytim...|Lineisy Montero, ...|['Models (Profess...|\n",
            "|2020-04-13|16:23:00|44.93|44.93|44.93|44.93|The Fashion Crews...|multimedia|https://www.nytim...|As Balmain’s Oliv...|['Fashion and App...|\n",
            "|2020-04-13|16:23:00|44.93|44.93|44.93|44.93|The Esteemed Blac...|multimedia|https://www.nytim...|Though their jour...|['Black People', ...|\n",
            "|2020-04-13|16:23:00|44.93|44.93|44.93|44.93|    What Is a Tribe?|multimedia|https://www.nytim...|Human culture as ...|['Politics and Go...|\n",
            "+----------+--------+-----+-----+-----+-----+--------------------+----------+--------------------+--------------------+--------------------+\n",
            "only showing top 20 rows\n",
            "\n"
          ]
        }
      ]
    },
    {
      "cell_type": "code",
      "source": [
        "from pyspark.ml.feature import Tokenizer, RegexTokenizer\n",
        "from pyspark.sql.functions import lower\n",
        "from pyspark.sql.functions import regexp_replace\n",
        "from nltk.tokenize import word_tokenize\n",
        "from pyspark.sql import Row\n",
        "from pyspark.ml.feature import StopWordsRemover\n",
        "from nltk.stem.snowball import SnowballStemmer\n",
        "from pyspark.sql.functions import udf\n",
        "from pyspark.sql.types import *\n",
        "from pyspark.ml.feature import CountVectorizer\n",
        "import pyspark.sql.functions as F\n",
        "from pyspark.sql.functions import sum as _sum\n",
        "from pyspark.sql.functions import to_timestamp\n",
        "from pyspark import StorageLevel\n",
        "\n",
        "df = df_merged.select('*', (lower(regexp_replace('snippet', \"[^a-zA-Z\\\\s]\", \"\")).alias('Regex Removed & Lower Cased Articles')))"
      ],
      "metadata": {
        "id": "8WU5Xe3SJV09"
      },
      "execution_count": 14,
      "outputs": []
    },
    {
      "cell_type": "code",
      "source": [
        "def tokenize(df):\n",
        "    tokenizer = Tokenizer(inputCol=\"Regex Removed & Lower Cased Articles\", outputCol=\"Tokenized Articles\")\n",
        "    return tokenizer.transform(df)"
      ],
      "metadata": {
        "id": "BC7AfpQIJjp_"
      },
      "execution_count": 15,
      "outputs": []
    },
    {
      "cell_type": "code",
      "source": [
        "news_df = tokenize(df)"
      ],
      "metadata": {
        "id": "FKVFCWnIJlSa"
      },
      "execution_count": 16,
      "outputs": []
    },
    {
      "cell_type": "code",
      "source": [
        "news_df.show()"
      ],
      "metadata": {
        "colab": {
          "base_uri": "https://localhost:8080/"
        },
        "id": "YcEbReI5Jo2F",
        "outputId": "5f68e63d-0b0b-45d0-f5fa-a30bfe6b4129"
      },
      "execution_count": 17,
      "outputs": [
        {
          "output_type": "stream",
          "name": "stdout",
          "text": [
            "+----------+--------+-----+-----+-----+-----+--------------------+----------+--------------------+--------------------+--------------------+------------------------------------+--------------------+\n",
            "|      Date|    Time| Open| High|  Low|Close|            Headline|  Doc_type|                 URL|             snippet|            keywords|Regex Removed & Lower Cased Articles|  Tokenized Articles|\n",
            "+----------+--------+-----+-----+-----+-----+--------------------+----------+--------------------+--------------------+--------------------+------------------------------------+--------------------+\n",
            "|2020-04-13|16:23:00|44.93|44.93|44.93|44.93|Bob Iger Thought ...|   article|https://www.nytim...|The former C.E.O....|['Coronavirus (20...|                the former ceo th...|[the, former, ceo...|\n",
            "|2020-04-13|16:23:00|44.93|44.93|44.93|44.93|A Corporate Merge...|   article|https://www.nytim...|The United States...|['Mergers, Acquis...|                the united states...|[the, united, sta...|\n",
            "|2020-04-13|16:23:00|44.93|44.93|44.93|44.93|Trump Lashes Out ...|   article|https://www.nytim...|The president ret...|['Coronavirus (20...|                the president ret...|[the, president, ...|\n",
            "|2020-04-13|16:23:00|44.93|44.93|44.93|44.93|‘Westworld’ Seaso...|   article|https://www.nytim...|This season is be...|      ['Television']|                this season is be...|[this, season, is...|\n",
            "|2020-04-13|16:23:00|44.93|44.93|44.93|44.93|Small Chloroquine...|   article|https://www.nytim...|A research trial ...|['Hydroxychloroqu...|                a research trial ...|[a, research, tri...|\n",
            "|2020-04-13|16:23:00|44.93|44.93|44.93|44.93|Quotation of the ...|   article|https://www.nytim...|Quotation of the ...|                  []|                quotation of the ...|[quotation, of, t...|\n",
            "|2020-04-13|16:23:00|44.93|44.93|44.93|44.93|No Corrections: A...|   article|https://www.nytim...|No corrections ap...|                  []|                no corrections ap...|[no, corrections,...|\n",
            "|2020-04-13|16:23:00|44.93|44.93|44.93|44.93|Enrique Olvera an...|multimedia|https://www.nytim...|The influential c...|['Chefs', 'Food',...|                the influential c...|[the, influential...|\n",
            "|2020-04-13|16:23:00|44.93|44.93|44.93|44.93|How ACT UP Remade...|multimedia|https://www.nytim...|The coalition tha...|['Acquired Immune...|                the coalition tha...|[the, coalition, ...|\n",
            "|2020-04-13|16:23:00|44.93|44.93|44.93|44.93|Enrique Olvera’s ...|   article|https://www.nytim...|The chef shares h...|['Cooking and Coo...|                the chef shares h...|[the, chef, share...|\n",
            "|2020-04-13|16:23:00|44.93|44.93|44.93|44.93|12 People on Join...|   article|https://www.nytim...|A dozen participa...|['Acquired Immune...|                a dozen participa...|[a, dozen, partic...|\n",
            "|2020-04-13|16:23:00|44.93|44.93|44.93|44.93|Lockdowns in Fran...|   article|https://www.nytim...|President Vladimi...|['Coronavirus (20...|                president vladimi...|[president, vladi...|\n",
            "|2020-04-13|16:23:00|44.93|44.93|44.93|44.93|Coronavirus, Bori...|   article|https://www.nytim...|Here’s what you n...|                  []|                heres what you ne...|[heres, what, you...|\n",
            "|2020-04-13|16:23:00|44.93|44.93|44.93|44.93|The Asian-America...|multimedia|https://www.nytim...|Kimora Lee Simmon...|['Asian-Americans...|                kimora lee simmon...|[kimora, lee, sim...|\n",
            "|2020-04-13|16:23:00|44.93|44.93|44.93|44.93|Watch Mary Ping C...|   article|https://www.nytim...|The fashion desig...|['Fashion and App...|                the fashion desig...|[the, fashion, de...|\n",
            "|2020-04-13|16:23:00|44.93|44.93|44.93|44.93|The Butches and S...|multimedia|https://www.nytim...|Without their pre...|['Homosexuality a...|                without their pre...|[without, their, ...|\n",
            "|2020-04-13|16:23:00|44.93|44.93|44.93|44.93|The New Generatio...|multimedia|https://www.nytim...|Lineisy Montero, ...|['Models (Profess...|                lineisy montero l...|[lineisy, montero...|\n",
            "|2020-04-13|16:23:00|44.93|44.93|44.93|44.93|The Fashion Crews...|multimedia|https://www.nytim...|As Balmain’s Oliv...|['Fashion and App...|                as balmains olivi...|[as, balmains, ol...|\n",
            "|2020-04-13|16:23:00|44.93|44.93|44.93|44.93|The Esteemed Blac...|multimedia|https://www.nytim...|Though their jour...|['Black People', ...|                though their jour...|[though, their, j...|\n",
            "|2020-04-13|16:23:00|44.93|44.93|44.93|44.93|    What Is a Tribe?|multimedia|https://www.nytim...|Human culture as ...|['Politics and Go...|                human culture as ...|[human, culture, ...|\n",
            "+----------+--------+-----+-----+-----+-----+--------------------+----------+--------------------+--------------------+--------------------+------------------------------------+--------------------+\n",
            "only showing top 20 rows\n",
            "\n"
          ]
        }
      ]
    },
    {
      "cell_type": "code",
      "source": [
        "def stop_word_remove(df):\n",
        "    remover = StopWordsRemover(inputCol=\"Tokenized Articles\", outputCol=\"Articles without stop words\")\n",
        "    return remover.transform(df)"
      ],
      "metadata": {
        "id": "mzfwGs7oJqts"
      },
      "execution_count": 18,
      "outputs": []
    },
    {
      "cell_type": "code",
      "source": [
        "news_df = stop_word_remove(news_df)"
      ],
      "metadata": {
        "id": "4S9H7OPoJsA5"
      },
      "execution_count": 19,
      "outputs": []
    },
    {
      "cell_type": "code",
      "source": [
        "news_df.show()"
      ],
      "metadata": {
        "colab": {
          "base_uri": "https://localhost:8080/"
        },
        "id": "S8UvUEb3Jt5_",
        "outputId": "686f68e3-e077-4cae-aa67-782b9d04d153"
      },
      "execution_count": 20,
      "outputs": [
        {
          "output_type": "stream",
          "name": "stdout",
          "text": [
            "+----------+--------+-----+-----+-----+-----+--------------------+----------+--------------------+--------------------+--------------------+------------------------------------+--------------------+---------------------------+\n",
            "|      Date|    Time| Open| High|  Low|Close|            Headline|  Doc_type|                 URL|             snippet|            keywords|Regex Removed & Lower Cased Articles|  Tokenized Articles|Articles without stop words|\n",
            "+----------+--------+-----+-----+-----+-----+--------------------+----------+--------------------+--------------------+--------------------+------------------------------------+--------------------+---------------------------+\n",
            "|2020-04-13|16:23:00|44.93|44.93|44.93|44.93|Bob Iger Thought ...|   article|https://www.nytim...|The former C.E.O....|['Coronavirus (20...|                the former ceo th...|[the, former, ceo...|       [former, ceo, tho...|\n",
            "|2020-04-13|16:23:00|44.93|44.93|44.93|44.93|A Corporate Merge...|   article|https://www.nytim...|The United States...|['Mergers, Acquis...|                the united states...|[the, united, sta...|       [united, states, ...|\n",
            "|2020-04-13|16:23:00|44.93|44.93|44.93|44.93|Trump Lashes Out ...|   article|https://www.nytim...|The president ret...|['Coronavirus (20...|                the president ret...|[the, president, ...|       [president, retwe...|\n",
            "|2020-04-13|16:23:00|44.93|44.93|44.93|44.93|‘Westworld’ Seaso...|   article|https://www.nytim...|This season is be...|      ['Television']|                this season is be...|[this, season, is...|       [season, beginnin...|\n",
            "|2020-04-13|16:23:00|44.93|44.93|44.93|44.93|Small Chloroquine...|   article|https://www.nytim...|A research trial ...|['Hydroxychloroqu...|                a research trial ...|[a, research, tri...|       [research, trial,...|\n",
            "|2020-04-13|16:23:00|44.93|44.93|44.93|44.93|Quotation of the ...|   article|https://www.nytim...|Quotation of the ...|                  []|                quotation of the ...|[quotation, of, t...|       [quotation, day, ...|\n",
            "|2020-04-13|16:23:00|44.93|44.93|44.93|44.93|No Corrections: A...|   article|https://www.nytim...|No corrections ap...|                  []|                no corrections ap...|[no, corrections,...|       [corrections, app...|\n",
            "|2020-04-13|16:23:00|44.93|44.93|44.93|44.93|Enrique Olvera an...|multimedia|https://www.nytim...|The influential c...|['Chefs', 'Food',...|                the influential c...|[the, influential...|       [influential, che...|\n",
            "|2020-04-13|16:23:00|44.93|44.93|44.93|44.93|How ACT UP Remade...|multimedia|https://www.nytim...|The coalition tha...|['Acquired Immune...|                the coalition tha...|[the, coalition, ...|       [coalition, fough...|\n",
            "|2020-04-13|16:23:00|44.93|44.93|44.93|44.93|Enrique Olvera’s ...|   article|https://www.nytim...|The chef shares h...|['Cooking and Coo...|                the chef shares h...|[the, chef, share...|       [chef, shares, re...|\n",
            "|2020-04-13|16:23:00|44.93|44.93|44.93|44.93|12 People on Join...|   article|https://www.nytim...|A dozen participa...|['Acquired Immune...|                a dozen participa...|[a, dozen, partic...|       [dozen, participa...|\n",
            "|2020-04-13|16:23:00|44.93|44.93|44.93|44.93|Lockdowns in Fran...|   article|https://www.nytim...|President Vladimi...|['Coronavirus (20...|                president vladimi...|[president, vladi...|       [president, vladi...|\n",
            "|2020-04-13|16:23:00|44.93|44.93|44.93|44.93|Coronavirus, Bori...|   article|https://www.nytim...|Here’s what you n...|                  []|                heres what you ne...|[heres, what, you...|        [heres, need, know]|\n",
            "|2020-04-13|16:23:00|44.93|44.93|44.93|44.93|The Asian-America...|multimedia|https://www.nytim...|Kimora Lee Simmon...|['Asian-Americans...|                kimora lee simmon...|[kimora, lee, sim...|       [kimora, lee, sim...|\n",
            "|2020-04-13|16:23:00|44.93|44.93|44.93|44.93|Watch Mary Ping C...|   article|https://www.nytim...|The fashion desig...|['Fashion and App...|                the fashion desig...|[the, fashion, de...|       [fashion, designe...|\n",
            "|2020-04-13|16:23:00|44.93|44.93|44.93|44.93|The Butches and S...|multimedia|https://www.nytim...|Without their pre...|['Homosexuality a...|                without their pre...|[without, their, ...|       [without, presenc...|\n",
            "|2020-04-13|16:23:00|44.93|44.93|44.93|44.93|The New Generatio...|multimedia|https://www.nytim...|Lineisy Montero, ...|['Models (Profess...|                lineisy montero l...|[lineisy, montero...|       [lineisy, montero...|\n",
            "|2020-04-13|16:23:00|44.93|44.93|44.93|44.93|The Fashion Crews...|multimedia|https://www.nytim...|As Balmain’s Oliv...|['Fashion and App...|                as balmains olivi...|[as, balmains, ol...|       [balmains, olivie...|\n",
            "|2020-04-13|16:23:00|44.93|44.93|44.93|44.93|The Esteemed Blac...|multimedia|https://www.nytim...|Though their jour...|['Black People', ...|                though their jour...|[though, their, j...|       [though, journey,...|\n",
            "|2020-04-13|16:23:00|44.93|44.93|44.93|44.93|    What Is a Tribe?|multimedia|https://www.nytim...|Human culture as ...|['Politics and Go...|                human culture as ...|[human, culture, ...|       [human, culture, ...|\n",
            "+----------+--------+-----+-----+-----+-----+--------------------+----------+--------------------+--------------------+--------------------+------------------------------------+--------------------+---------------------------+\n",
            "only showing top 20 rows\n",
            "\n"
          ]
        }
      ]
    },
    {
      "cell_type": "code",
      "source": [
        "from pyspark.ml.feature import HashingTF, Tokenizer\n",
        "hashingTF = HashingTF(inputCol=\"Articles without stop words\", outputCol=\"rawFeatures\")"
      ],
      "metadata": {
        "id": "9lwmnecuJvYR"
      },
      "execution_count": 21,
      "outputs": []
    },
    {
      "cell_type": "code",
      "source": [
        "featurizedData = hashingTF.transform(news_df)"
      ],
      "metadata": {
        "id": "M-OcKlYTJxDk"
      },
      "execution_count": 22,
      "outputs": []
    },
    {
      "cell_type": "code",
      "source": [
        "news_df.show()"
      ],
      "metadata": {
        "colab": {
          "base_uri": "https://localhost:8080/"
        },
        "id": "Mgn_va6DJzQP",
        "outputId": "8d5e2a9f-30f0-461d-c28c-2f15e07ffac4"
      },
      "execution_count": 23,
      "outputs": [
        {
          "output_type": "stream",
          "name": "stdout",
          "text": [
            "+----------+--------+-----+-----+-----+-----+--------------------+----------+--------------------+--------------------+--------------------+------------------------------------+--------------------+---------------------------+\n",
            "|      Date|    Time| Open| High|  Low|Close|            Headline|  Doc_type|                 URL|             snippet|            keywords|Regex Removed & Lower Cased Articles|  Tokenized Articles|Articles without stop words|\n",
            "+----------+--------+-----+-----+-----+-----+--------------------+----------+--------------------+--------------------+--------------------+------------------------------------+--------------------+---------------------------+\n",
            "|2020-04-13|16:23:00|44.93|44.93|44.93|44.93|Bob Iger Thought ...|   article|https://www.nytim...|The former C.E.O....|['Coronavirus (20...|                the former ceo th...|[the, former, ceo...|       [former, ceo, tho...|\n",
            "|2020-04-13|16:23:00|44.93|44.93|44.93|44.93|A Corporate Merge...|   article|https://www.nytim...|The United States...|['Mergers, Acquis...|                the united states...|[the, united, sta...|       [united, states, ...|\n",
            "|2020-04-13|16:23:00|44.93|44.93|44.93|44.93|Trump Lashes Out ...|   article|https://www.nytim...|The president ret...|['Coronavirus (20...|                the president ret...|[the, president, ...|       [president, retwe...|\n",
            "|2020-04-13|16:23:00|44.93|44.93|44.93|44.93|‘Westworld’ Seaso...|   article|https://www.nytim...|This season is be...|      ['Television']|                this season is be...|[this, season, is...|       [season, beginnin...|\n",
            "|2020-04-13|16:23:00|44.93|44.93|44.93|44.93|Small Chloroquine...|   article|https://www.nytim...|A research trial ...|['Hydroxychloroqu...|                a research trial ...|[a, research, tri...|       [research, trial,...|\n",
            "|2020-04-13|16:23:00|44.93|44.93|44.93|44.93|Quotation of the ...|   article|https://www.nytim...|Quotation of the ...|                  []|                quotation of the ...|[quotation, of, t...|       [quotation, day, ...|\n",
            "|2020-04-13|16:23:00|44.93|44.93|44.93|44.93|No Corrections: A...|   article|https://www.nytim...|No corrections ap...|                  []|                no corrections ap...|[no, corrections,...|       [corrections, app...|\n",
            "|2020-04-13|16:23:00|44.93|44.93|44.93|44.93|Enrique Olvera an...|multimedia|https://www.nytim...|The influential c...|['Chefs', 'Food',...|                the influential c...|[the, influential...|       [influential, che...|\n",
            "|2020-04-13|16:23:00|44.93|44.93|44.93|44.93|How ACT UP Remade...|multimedia|https://www.nytim...|The coalition tha...|['Acquired Immune...|                the coalition tha...|[the, coalition, ...|       [coalition, fough...|\n",
            "|2020-04-13|16:23:00|44.93|44.93|44.93|44.93|Enrique Olvera’s ...|   article|https://www.nytim...|The chef shares h...|['Cooking and Coo...|                the chef shares h...|[the, chef, share...|       [chef, shares, re...|\n",
            "|2020-04-13|16:23:00|44.93|44.93|44.93|44.93|12 People on Join...|   article|https://www.nytim...|A dozen participa...|['Acquired Immune...|                a dozen participa...|[a, dozen, partic...|       [dozen, participa...|\n",
            "|2020-04-13|16:23:00|44.93|44.93|44.93|44.93|Lockdowns in Fran...|   article|https://www.nytim...|President Vladimi...|['Coronavirus (20...|                president vladimi...|[president, vladi...|       [president, vladi...|\n",
            "|2020-04-13|16:23:00|44.93|44.93|44.93|44.93|Coronavirus, Bori...|   article|https://www.nytim...|Here’s what you n...|                  []|                heres what you ne...|[heres, what, you...|        [heres, need, know]|\n",
            "|2020-04-13|16:23:00|44.93|44.93|44.93|44.93|The Asian-America...|multimedia|https://www.nytim...|Kimora Lee Simmon...|['Asian-Americans...|                kimora lee simmon...|[kimora, lee, sim...|       [kimora, lee, sim...|\n",
            "|2020-04-13|16:23:00|44.93|44.93|44.93|44.93|Watch Mary Ping C...|   article|https://www.nytim...|The fashion desig...|['Fashion and App...|                the fashion desig...|[the, fashion, de...|       [fashion, designe...|\n",
            "|2020-04-13|16:23:00|44.93|44.93|44.93|44.93|The Butches and S...|multimedia|https://www.nytim...|Without their pre...|['Homosexuality a...|                without their pre...|[without, their, ...|       [without, presenc...|\n",
            "|2020-04-13|16:23:00|44.93|44.93|44.93|44.93|The New Generatio...|multimedia|https://www.nytim...|Lineisy Montero, ...|['Models (Profess...|                lineisy montero l...|[lineisy, montero...|       [lineisy, montero...|\n",
            "|2020-04-13|16:23:00|44.93|44.93|44.93|44.93|The Fashion Crews...|multimedia|https://www.nytim...|As Balmain’s Oliv...|['Fashion and App...|                as balmains olivi...|[as, balmains, ol...|       [balmains, olivie...|\n",
            "|2020-04-13|16:23:00|44.93|44.93|44.93|44.93|The Esteemed Blac...|multimedia|https://www.nytim...|Though their jour...|['Black People', ...|                though their jour...|[though, their, j...|       [though, journey,...|\n",
            "|2020-04-13|16:23:00|44.93|44.93|44.93|44.93|    What Is a Tribe?|multimedia|https://www.nytim...|Human culture as ...|['Politics and Go...|                human culture as ...|[human, culture, ...|       [human, culture, ...|\n",
            "+----------+--------+-----+-----+-----+-----+--------------------+----------+--------------------+--------------------+--------------------+------------------------------------+--------------------+---------------------------+\n",
            "only showing top 20 rows\n",
            "\n"
          ]
        }
      ]
    },
    {
      "cell_type": "code",
      "source": [
        "featurizedData.show(truncate = False)"
      ],
      "metadata": {
        "colab": {
          "base_uri": "https://localhost:8080/"
        },
        "id": "MQ1Kx9z3J0gG",
        "outputId": "50bb9f42-1cf8-4140-f387-b29bad23d9a6"
      },
      "execution_count": 24,
      "outputs": [
        {
          "output_type": "stream",
          "name": "stdout",
          "text": [
            "+----------+--------+-----+-----+-----+-----+-----------------------------------------------------------------------------+----------+--------------------------------------------------------------------------------------------------------------------------------+------------------------------------------------------------------------------------------------------------------------------------------------------------------------------------------------------+--------------------------------------------------------------------------------------------------------------------------------------------------------------------------------+----------------------------------------------------------------------------------------------------------------------------------------------------------------------------------------------------+-----------------------------------------------------------------------------------------------------------------------------------------------------------------------------------------------------------------------------------+--------------------------------------------------------------------------------------------------------------------------------------------------------------------------------+----------------------------------------------------------------------------------------------------------------------------------------------------------------------------------------------------------------------------------+\n",
            "|Date      |Time    |Open |High |Low  |Close|Headline                                                                     |Doc_type  |URL                                                                                                                             |snippet                                                                                                                                                                                               |keywords                                                                                                                                                                        |Regex Removed & Lower Cased Articles                                                                                                                                                                |Tokenized Articles                                                                                                                                                                                                                 |Articles without stop words                                                                                                                                                     |rawFeatures                                                                                                                                                                                                                       |\n",
            "+----------+--------+-----+-----+-----+-----+-----------------------------------------------------------------------------+----------+--------------------------------------------------------------------------------------------------------------------------------+------------------------------------------------------------------------------------------------------------------------------------------------------------------------------------------------------+--------------------------------------------------------------------------------------------------------------------------------------------------------------------------------+----------------------------------------------------------------------------------------------------------------------------------------------------------------------------------------------------+-----------------------------------------------------------------------------------------------------------------------------------------------------------------------------------------------------------------------------------+--------------------------------------------------------------------------------------------------------------------------------------------------------------------------------+----------------------------------------------------------------------------------------------------------------------------------------------------------------------------------------------------------------------------------+\n",
            "|2020-04-13|16:23:00|44.93|44.93|44.93|44.93|Bob Iger Thought He Was Leaving on Top. Now, He’s Fighting for Disney’s Life.|article   |https://www.nytimes.com/2020/04/12/business/media/disney-ceo-coronavirus.html                                                   |The former C.E.O. thought he was riding into the sunset. Now he’s reasserting control and reimagining Disney as a company with fewer employees and more thermometers.                                 |['Coronavirus (2019-nCoV)', 'Media']                                                                                                                                            |the former ceo thought he was riding into the sunset now hes reasserting control and reimagining disney as a company with fewer employees and more thermometers                                     |[the, former, ceo, thought, he, was, riding, into, the, sunset, now, hes, reasserting, control, and, reimagining, disney, as, a, company, with, fewer, employees, and, more, thermometers]                                         |[former, ceo, thought, riding, sunset, hes, reasserting, control, reimagining, disney, company, fewer, employees, thermometers]                                                 |(262144,[14769,37711,50719,54591,62400,69703,125672,132825,139370,142343,149982,164735,165688,226421],[1.0,1.0,1.0,1.0,1.0,1.0,1.0,1.0,1.0,1.0,1.0,1.0,1.0,1.0])                                                                  |\n",
            "|2020-04-13|16:23:00|44.93|44.93|44.93|44.93|A Corporate Merger Cost America Ventilators                                  |article   |https://www.nytimes.com/2020/04/12/opinion/ventilators-coronavirus.html                                                         |The United States’ flawed approach to consolidation in the health care industry can endanger public health.                                                                                           |['Mergers, Acquisitions and Divestitures', 'Coronavirus (2019-nCoV)', 'Ventilators (Medical)', 'Health Insurance and Managed Care', 'Antitrust Laws and Competition Issues']    |the united states flawed approach to consolidation in the health care industry can endanger public health                                                                                           |[the, united, states, flawed, approach, to, consolidation, in, the, health, care, industry, can, endanger, public, health]                                                                                                         |[united, states, flawed, approach, consolidation, health, care, industry, endanger, public, health]                                                                             |(262144,[2564,49250,62245,109230,111687,158186,174506,181241,201479,206799],[1.0,1.0,2.0,1.0,1.0,1.0,1.0,1.0,1.0,1.0])                                                                                                            |\n",
            "|2020-04-13|16:23:00|44.93|44.93|44.93|44.93|Trump Lashes Out at Fauci Amid Criticism of Slow Virus Response              |article   |https://www.nytimes.com/2020/04/12/us/politics/trump-fauci-coronavirus.html                                                     |The president retweeted a post calling for the government’s top infectious disease specialist to be fired after the doctor acknowledged that shutting down the country earlier could have saved lives.|['Coronavirus (2019-nCoV)', 'United States Politics and Government', 'Epidemics']                                                                                               |the president retweeted a post calling for the governments top infectious disease specialist to be fired after the doctor acknowledged that shutting down the country earlier could have saved lives|[the, president, retweeted, a, post, calling, for, the, governments, top, infectious, disease, specialist, to, be, fired, after, the, doctor, acknowledged, that, shutting, down, the, country, earlier, could, have, saved, lives]|[president, retweeted, post, calling, governments, top, infectious, disease, specialist, fired, doctor, acknowledged, shutting, country, earlier, saved, lives]                 |(262144,[17058,18176,64489,83472,122655,133183,153178,159901,163886,165845,172933,174113,210947,214007,219256,244857,248041],[1.0,1.0,1.0,1.0,1.0,1.0,1.0,1.0,1.0,1.0,1.0,1.0,1.0,1.0,1.0,1.0,1.0])                               |\n",
            "|2020-04-13|16:23:00|44.93|44.93|44.93|44.93|‘Westworld’ Season 3, Episode 5 Recap: Reality, Man                          |article   |https://www.nytimes.com/2020/04/12/arts/television/westworld-recap.html                                                         |This season is beginning to mirror the first in many ways. Only this time it’s the humans who are waking up.                                                                                          |['Television']                                                                                                                                                                  |this season is beginning to mirror the first in many ways only this time its the humans who are waking up                                                                                           |[this, season, is, beginning, to, mirror, the, first, in, many, ways, only, this, time, its, the, humans, who, are, waking, up]                                                                                                    |[season, beginning, mirror, first, many, ways, time, humans, waking]                                                                                                            |(262144,[55270,121517,126532,176251,188835,216678,228916,245044,261063],[1.0,1.0,1.0,1.0,1.0,1.0,1.0,1.0,1.0])                                                                                                                    |\n",
            "|2020-04-13|16:23:00|44.93|44.93|44.93|44.93|Small Chloroquine Study Halted Over Risk of Fatal Heart Complications        |article   |https://www.nytimes.com/2020/04/12/health/chloroquine-coronavirus-trump.html                                                    |A research trial of coronavirus patients in Brazil ended after patients taking a higher dose of chloroquine, one of the drugs President Trump has promoted, developed irregular heart rates.          |['Hydroxychloroquine (Drug)', 'Chloroquine (Drug)', 'Azithromycin (Drug)', 'Research', 'Coronavirus (2019-nCoV)', 'Drugs (Pharmaceuticals)']                                    |a research trial of coronavirus patients in brazil ended after patients taking a higher dose of chloroquine one of the drugs president trump has promoted developed irregular heart rates           |[a, research, trial, of, coronavirus, patients, in, brazil, ended, after, patients, taking, a, higher, dose, of, chloroquine, one, of, the, drugs, president, trump, has, promoted, developed, irregular, heart, rates]            |[research, trial, coronavirus, patients, brazil, ended, patients, taking, higher, dose, chloroquine, one, drugs, president, trump, promoted, developed, irregular, heart, rates]|(262144,[666,2050,2162,21823,44484,49707,59660,112352,113186,120768,142424,143720,153178,181205,190011,191174,219832,220806,258435],[2.0,1.0,1.0,1.0,1.0,1.0,1.0,1.0,1.0,1.0,1.0,1.0,1.0,1.0,1.0,1.0,1.0,1.0,1.0])                |\n",
            "|2020-04-13|16:23:00|44.93|44.93|44.93|44.93|Quotation of the Day: The New Killer App? A Simple Phone Call                |article   |https://www.nytimes.com/2020/04/12/todayspaper/quotation-of-the-day-the-new-killer-app-a-simple-phone-call.html                 |Quotation of the Day for Monday, April 13, 2020.                                                                                                                                                      |[]                                                                                                                                                                              |quotation of the day for monday april                                                                                                                                                               |[quotation, of, the, day, for, monday, april]                                                                                                                                                                                      |[quotation, day, monday, april]                                                                                                                                                 |(262144,[85427,96155,222966,254061],[1.0,1.0,1.0,1.0])                                                                                                                                                                            |\n",
            "|2020-04-13|16:23:00|44.93|44.93|44.93|44.93|No Corrections: April 13, 2020                                               |article   |https://www.nytimes.com/2020/04/12/pageoneplus/no-corrections-april-13-2020.html                                                |No corrections appeared in print on Monday, April 13, 2020.                                                                                                                                           |[]                                                                                                                                                                              |no corrections appeared in print on monday april                                                                                                                                                    |[no, corrections, appeared, in, print, on, monday, april]                                                                                                                                                                          |[corrections, appeared, print, monday, april]                                                                                                                                   |(262144,[7777,71707,96155,222966,246778],[1.0,1.0,1.0,1.0,1.0])                                                                                                                                                                   |\n",
            "|2020-04-13|16:23:00|44.93|44.93|44.93|44.93|Enrique Olvera and His Culinary Heirs Have Changed How and What We Eat       |multimedia|https://www.nytimes.com/interactive/2020/04/13/t-magazine/enrique-olvera-chef.html                                              |The influential chef has reconceived Mexican cuisine, both in his own country and beyond.                                                                                                             |['Chefs', 'Food', 'Cooking and Cookbooks']                                                                                                                                      |the influential chef has reconceived mexican cuisine both in his own country and beyond                                                                                                             |[the, influential, chef, has, reconceived, mexican, cuisine, both, in, his, own, country, and, beyond]                                                                                                                             |[influential, chef, reconceived, mexican, cuisine, country, beyond]                                                                                                             |(262144,[163886,169170,174078,207482,214322,221812,234817],[1.0,1.0,1.0,1.0,1.0,1.0,1.0])                                                                                                                                         |\n",
            "|2020-04-13|16:23:00|44.93|44.93|44.93|44.93|How ACT UP Remade Political Organizing in America                            |multimedia|https://www.nytimes.com/interactive/2020/04/13/t-magazine/act-up-aids.html                                                      |The coalition that fought against AIDS stigma and worked to slow the plague changed patients’ rights and contemporary protest movements.                                                              |['Acquired Immune Deficiency Syndrome', 'Epidemics', 'Medicine and Health', 'Homosexuality and Bisexuality']                                                                    |the coalition that fought against aids stigma and worked to slow the plague changed patients rights and contemporary protest movements                                                              |[the, coalition, that, fought, against, aids, stigma, and, worked, to, slow, the, plague, changed, patients, rights, and, contemporary, protest, movements]                                                                        |[coalition, fought, aids, stigma, worked, slow, plague, changed, patients, rights, contemporary, protest, movements]                                                            |(262144,[666,1578,27035,27707,60181,67950,102404,187787,190003,205119,209034,222911,226685],[1.0,1.0,1.0,1.0,1.0,1.0,1.0,1.0,1.0,1.0,1.0,1.0,1.0])                                                                                |\n",
            "|2020-04-13|16:23:00|44.93|44.93|44.93|44.93|Enrique Olvera’s Satisfying, Adaptable Vegetable Soup                        |article   |https://www.nytimes.com/2020/04/13/t-magazine/enrique-olvera-vegetable-soup-recipe.html                                         |The chef shares his recipe for a hearty broth-based dish, inspired by the version his grandmother used to make.                                                                                       |['Cooking and Cookbooks', 'Vegetables', 'Soups', 'Herbs', 'Recipes', 'Tomatoes']                                                                                                |the chef shares his recipe for a hearty brothbased dish inspired by the version his grandmother used to make                                                                                        |[the, chef, shares, his, recipe, for, a, hearty, brothbased, dish, inspired, by, the, version, his, grandmother, used, to, make]                                                                                                   |[chef, shares, recipe, hearty, brothbased, dish, inspired, version, grandmother, used, make]                                                                                    |(262144,[18050,24346,26787,39143,89717,142772,153109,161061,169170,240323,245989],[1.0,1.0,1.0,1.0,1.0,1.0,1.0,1.0,1.0,1.0,1.0])                                                                                                  |\n",
            "|2020-04-13|16:23:00|44.93|44.93|44.93|44.93|12 People on Joining ACT UP: ‘I Went to That First Meeting and Never Left’   |article   |https://www.nytimes.com/2020/04/13/t-magazine/act-up-members.html                                                               |A dozen participants of the pioneering AIDS activist group, including Larry Kramer and Peter Staley, on the moment they decided to take action.                                                       |['Acquired Immune Deficiency Syndrome', 'Homosexuality and Bisexuality', 'Demonstrations, Protests and Riots', 'Medicine and Health', 'Politics and Government', 'Men and Boys']|a dozen participants of the pioneering aids activist group including larry kramer and peter staley on the moment they decided to take action                                                        |[a, dozen, participants, of, the, pioneering, aids, activist, group, including, larry, kramer, and, peter, staley, on, the, moment, they, decided, to, take, action]                                                               |[dozen, participants, pioneering, aids, activist, group, including, larry, kramer, peter, staley, moment, decided, take, action]                                                |(262144,[42028,55639,58044,66859,129508,132505,137788,141062,151160,166098,184774,193983,205119,257017,257743],[1.0,1.0,1.0,1.0,1.0,1.0,1.0,1.0,1.0,1.0,1.0,1.0,1.0,1.0,1.0])                                                     |\n",
            "|2020-04-13|16:23:00|44.93|44.93|44.93|44.93|Lockdowns in France and U.K. Expected to Last Into Next Month                |article   |https://www.nytimes.com/2020/04/13/world/coronavirus-news-world-international-global.html                                       |President Vladimir V. Putin said Russia’s outbreak was bad and getting worse. In war-torn Libya, residents faced a dire choice: stay home or flee missiles.                                           |['Coronavirus (2019-nCoV)']                                                                                                                                                     |president vladimir v putin said russias outbreak was bad and getting worse in wartorn libya residents faced a dire choice stay home or flee missiles                                                |[president, vladimir, v, putin, said, russias, outbreak, was, bad, and, getting, worse, in, wartorn, libya, residents, faced, a, dire, choice, stay, home, or, flee, missiles]                                                     |[president, vladimir, v, putin, said, russias, outbreak, bad, getting, worse, wartorn, libya, residents, faced, dire, choice, stay, home, flee, missiles]                       |(262144,[17893,35404,43547,59317,73249,93481,145380,153178,163795,168976,169957,176962,194087,209160,209752,216372,227450,230764,234965,243800],[1.0,1.0,1.0,1.0,1.0,1.0,1.0,1.0,1.0,1.0,1.0,1.0,1.0,1.0,1.0,1.0,1.0,1.0,1.0,1.0])|\n",
            "|2020-04-13|16:23:00|44.93|44.93|44.93|44.93|Coronavirus, Boris Johnson, Easter Sunday: Your Monday Briefing              |article   |https://www.nytimes.com/2020/04/13/briefing/coronavirus-boris-johnson-easter-sunday.html                                        |Here’s what you need to know.                                                                                                                                                                         |[]                                                                                                                                                                              |heres what you need to know                                                                                                                                                                         |[heres, what, you, need, to, know]                                                                                                                                                                                                 |[heres, need, know]                                                                                                                                                             |(262144,[12072,83161,140931],[1.0,1.0,1.0])                                                                                                                                                                                       |\n",
            "|2020-04-13|16:23:00|44.93|44.93|44.93|44.93|The Asian-American Fashion Designers Who Shaped the Industry                 |multimedia|https://www.nytimes.com/interactive/2020/04/13/t-magazine/asian-american-fashion-designers.html                                 |Kimora Lee Simmons, Phillip Lim and many more have collectively advanced issues of representation.                                                                                                    |['Asian-Americans', 'Fashion and Apparel']                                                                                                                                      |kimora lee simmons phillip lim and many more have collectively advanced issues of representation                                                                                                    |[kimora, lee, simmons, phillip, lim, and, many, more, have, collectively, advanced, issues, of, representation]                                                                                                                    |[kimora, lee, simmons, phillip, lim, many, collectively, advanced, issues, representation]                                                                                      |(262144,[17435,45600,47239,53587,58561,73008,78246,178816,205843,245044],[1.0,1.0,1.0,1.0,1.0,1.0,1.0,1.0,1.0,1.0])                                                                                                               |\n",
            "|2020-04-13|16:23:00|44.93|44.93|44.93|44.93|Watch Mary Ping Create an ‘It’ Bag Out of Newspaper                          |article   |https://www.nytimes.com/2020/04/13/t-magazine/mary-ping-newspaper-bag.html                                                      |The fashion designer takes the “Make T Something” challenge.                                                                                                                                          |['Fashion and Apparel', 'Handbags and Purses', 'Design', 'Newspapers']                                                                                                          |the fashion designer takes the make t something challenge                                                                                                                                           |[the, fashion, designer, takes, the, make, t, something, challenge]                                                                                                                                                                |[fashion, designer, takes, make, something, challenge]                                                                                                                          |(262144,[27992,31839,57058,89717,130476,248394],[1.0,1.0,1.0,1.0,1.0,1.0])                                                                                                                                                        |\n",
            "|2020-04-13|16:23:00|44.93|44.93|44.93|44.93|The Butches and Studs Who’ve Defied the Male Gaze and Redefined Culture      |multimedia|https://www.nytimes.com/interactive/2020/04/13/t-magazine/butch-stud-lesbian.html                                               |Without their presence and contributions, queer aesthetics — and the arts at large — would be far less rich.                                                                                          |['Homosexuality and Bisexuality', 'Discrimination', 'Women and Girls', 'Men and Boys', 'Transgender and Transsexuals']                                                          |without their presence and contributions queer aesthetics  and the arts at large  would be far less rich                                                                                            |[without, their, presence, and, contributions, queer, aesthetics, , and, the, arts, at, large, , would, be, far, less, rich]                                                                                                       |[without, presence, contributions, queer, aesthetics, , arts, large, , far, less, rich]                                                                                         |(262144,[154,31332,105627,122280,130125,138141,149300,165678,183339,220270,249180],[1.0,1.0,1.0,1.0,1.0,1.0,1.0,1.0,1.0,1.0,2.0])                                                                                                 |\n",
            "|2020-04-13|16:23:00|44.93|44.93|44.93|44.93|The New Generation of Dominican Models Redefining Beauty                     |multimedia|https://www.nytimes.com/interactive/2020/04/13/t-magazine/dominican-republic-models.html                                        |Lineisy Montero, Licett Morillo and others have gained an international presence while also subverting assumptions about how women should look in Latin America.                                      |['Models (Professional)', 'Beauty (Concept)', 'Race and Ethnicity']                                                                                                             |lineisy montero licett morillo and others have gained an international presence while also subverting assumptions about how women should look in latin america                                      |[lineisy, montero, licett, morillo, and, others, have, gained, an, international, presence, while, also, subverting, assumptions, about, how, women, should, look, in, latin, america]                                             |[lineisy, montero, licett, morillo, others, gained, international, presence, also, subverting, assumptions, women, look, latin, america]                                        |(262144,[6888,26092,51043,75669,82889,130125,147136,166809,176933,180713,198117,223763,230876,236924,249969],[1.0,1.0,1.0,1.0,1.0,1.0,1.0,1.0,1.0,1.0,1.0,1.0,1.0,1.0,1.0])                                                       |\n",
            "|2020-04-13|16:23:00|44.93|44.93|44.93|44.93|The Fashion Crews Reinventing the Way We Dress                               |multimedia|https://www.nytimes.com/interactive/2020/04/13/t-magazine/maria-cornejo-olivier-rousteing-telfar-clemens-alessandro-michele.html|As Balmain’s Olivier Rousteing, Maria Cornejo, Telfar Clemens and Gucci’s Alessandro Michele prove, making clothes is the ultimate act of collaboration.                                              |['Fashion and Apparel']                                                                                                                                                         |as balmains olivier rousteing maria cornejo telfar clemens and guccis alessandro michele prove making clothes is the ultimate act of collaboration                                                  |[as, balmains, olivier, rousteing, maria, cornejo, telfar, clemens, and, guccis, alessandro, michele, prove, making, clothes, is, the, ultimate, act, of, collaboration]                                                           |[balmains, olivier, rousteing, maria, cornejo, telfar, clemens, guccis, alessandro, michele, prove, making, clothes, ultimate, act, collaboration]                              |(262144,[1374,19454,71670,109254,122308,142751,180287,198766,200587,211686,212699,213593,218192,247520,248069,250430],[1.0,1.0,1.0,1.0,1.0,1.0,1.0,1.0,1.0,1.0,1.0,1.0,1.0,1.0,1.0,1.0])                                          |\n",
            "|2020-04-13|16:23:00|44.93|44.93|44.93|44.93|The Esteemed Black Actresses Who Finally Have the Spotlight                  |multimedia|https://www.nytimes.com/interactive/2020/04/13/t-magazine/black-actresses-bassett-berry-blige-henson-whitfield-elise.html       |Though their journey in Hollywood has been hard and steep, a number of women have made it to the top. And they’re not done yet.                                                                       |['Black People', 'Blacks', 'Movies', 'Television']                                                                                                                              |though their journey in hollywood has been hard and steep a number of women have made it to the top and theyre not done yet                                                                         |[though, their, journey, in, hollywood, has, been, hard, and, steep, a, number, of, women, have, made, it, to, the, top, and, theyre, not, done, yet]                                                                              |[though, journey, hollywood, hard, steep, number, women, made, top, theyre, done, yet]                                                                                          |(262144,[2437,18176,113299,127834,133955,135239,140784,158421,198117,205360,225443,234233],[1.0,1.0,1.0,1.0,1.0,1.0,1.0,1.0,1.0,1.0,1.0,1.0])                                                                                     |\n",
            "|2020-04-13|16:23:00|44.93|44.93|44.93|44.93|What Is a Tribe?                                                             |multimedia|https://www.nytimes.com/interactive/2020/04/13/t-magazine/tribe-meaning.html                                                    |Human culture as we know it is still defined by the power of collective identity, the people we seek out to call our own.                                                                             |['Politics and Government', 'Sociology']                                                                                                                                        |human culture as we know it is still defined by the power of collective identity the people we seek out to call our own                                                                             |[human, culture, as, we, know, it, is, still, defined, by, the, power, of, collective, identity, the, people, we, seek, out, to, call, our, own]                                                                                   |[human, culture, know, still, defined, power, collective, identity, people, seek, call]                                                                                         |(262144,[31536,78896,109706,134303,140931,185559,189755,232869,247775,255829,258748],[1.0,1.0,1.0,1.0,1.0,1.0,1.0,1.0,1.0,1.0,1.0])                                                                                               |\n",
            "+----------+--------+-----+-----+-----+-----+-----------------------------------------------------------------------------+----------+--------------------------------------------------------------------------------------------------------------------------------+------------------------------------------------------------------------------------------------------------------------------------------------------------------------------------------------------+--------------------------------------------------------------------------------------------------------------------------------------------------------------------------------+----------------------------------------------------------------------------------------------------------------------------------------------------------------------------------------------------+-----------------------------------------------------------------------------------------------------------------------------------------------------------------------------------------------------------------------------------+--------------------------------------------------------------------------------------------------------------------------------------------------------------------------------+----------------------------------------------------------------------------------------------------------------------------------------------------------------------------------------------------------------------------------+\n",
            "only showing top 20 rows\n",
            "\n"
          ]
        }
      ]
    },
    {
      "cell_type": "code",
      "source": [
        "df = featurizedData['Open', 'High', 'Low', 'Close', 'snippet']"
      ],
      "metadata": {
        "id": "D_cvoxw4SvOO"
      },
      "execution_count": 25,
      "outputs": []
    },
    {
      "cell_type": "code",
      "source": [
        "from pyspark.ml.linalg import Vector  \n",
        "from pyspark.ml.feature import VectorAssembler"
      ],
      "metadata": {
        "id": "H6hK2ZYsS47l"
      },
      "execution_count": 26,
      "outputs": []
    },
    {
      "cell_type": "code",
      "source": [
        "vector_assmebler=VectorAssembler(inputCols=['Open','High','Low','Close'] \n",
        "                                ,outputCol='features')\n",
        "df_transformed=vector_assmebler.transform(df)\n",
        "\n",
        "df_transformed.show()"
      ],
      "metadata": {
        "colab": {
          "base_uri": "https://localhost:8080/"
        },
        "id": "uE-wVlJ_S405",
        "outputId": "f1e92979-5c29-469b-d9ae-55795f593a8f"
      },
      "execution_count": 27,
      "outputs": [
        {
          "output_type": "stream",
          "name": "stdout",
          "text": [
            "+-----+-----+-----+-----+--------------------+--------------------+\n",
            "| Open| High|  Low|Close|             snippet|            features|\n",
            "+-----+-----+-----+-----+--------------------+--------------------+\n",
            "|41.04|41.04|41.04|41.04|A report by Amnes...|[41.0400009155273...|\n",
            "|40.96|40.96|40.96|40.96|A report by Amnes...|[40.9599990844726...|\n",
            "|40.81|40.81|40.81|40.81|A report by Amnes...|[40.8100013732910...|\n",
            "| 40.8| 40.8| 40.8| 40.8|A report by Amnes...|[40.7999992370605...|\n",
            "|40.89|40.89|40.89|40.89|A report by Amnes...|[40.8899993896484...|\n",
            "|41.13|41.13|41.13|41.13|A report by Amnes...|[41.1300010681152...|\n",
            "|41.02|41.02|41.02|41.02|A report by Amnes...|[41.0200004577636...|\n",
            "|41.36|41.36|41.36|41.36|A report by Amnes...|[41.3600006103515...|\n",
            "|41.45|41.45|41.45|41.45|A report by Amnes...|[41.4500007629394...|\n",
            "|41.37|41.37|41.37|41.37|A report by Amnes...|[41.3699989318847...|\n",
            "|41.17|41.17|41.17|41.17|A report by Amnes...|[41.1699981689453...|\n",
            "| 41.2|41.29| 41.2|41.29|A report by Amnes...|[41.2000007629394...|\n",
            "|41.45|41.45|41.45|41.45|A report by Amnes...|[41.4500007629394...|\n",
            "|41.33|41.38|41.33|41.38|A report by Amnes...|[41.3300018310546...|\n",
            "|41.38|41.43|41.38|41.43|A report by Amnes...|[41.3800010681152...|\n",
            "|41.34| 41.4|41.31| 41.4|A report by Amnes...|[41.3400001525878...|\n",
            "| 41.4|41.42| 41.4|41.42|A report by Amnes...|[41.4000015258789...|\n",
            "| 41.4|41.43|41.39|41.41|A report by Amnes...|[41.4000015258789...|\n",
            "|41.36|41.36|41.36|41.36|A report by Amnes...|[41.3600006103515...|\n",
            "|41.44|41.44|41.44|41.44|A report by Amnes...|[41.4399986267089...|\n",
            "+-----+-----+-----+-----+--------------------+--------------------+\n",
            "only showing top 20 rows\n",
            "\n"
          ]
        }
      ]
    },
    {
      "cell_type": "code",
      "source": [
        "from pyspark.ml.feature import StringIndexer\n",
        "indexer = StringIndexer(inputCol = 'snippet', outputCol = 'word_index')\n",
        "df = indexer.fit(df_transformed).transform(df_transformed)\n",
        "df.show()"
      ],
      "metadata": {
        "colab": {
          "base_uri": "https://localhost:8080/"
        },
        "id": "FPZuhVNVTLAV",
        "outputId": "4faafb1a-b492-49e6-e63d-d45c75e55a19"
      },
      "execution_count": 28,
      "outputs": [
        {
          "output_type": "stream",
          "name": "stdout",
          "text": [
            "+-----+-----+-----+-----+--------------------+--------------------+----------+\n",
            "| Open| High|  Low|Close|             snippet|            features|word_index|\n",
            "+-----+-----+-----+-----+--------------------+--------------------+----------+\n",
            "|41.04|41.04|41.04|41.04|A report by Amnes...|[41.0400009155273...|   65936.0|\n",
            "|40.96|40.96|40.96|40.96|A report by Amnes...|[40.9599990844726...|   65936.0|\n",
            "|40.81|40.81|40.81|40.81|A report by Amnes...|[40.8100013732910...|   65936.0|\n",
            "| 40.8| 40.8| 40.8| 40.8|A report by Amnes...|[40.7999992370605...|   65936.0|\n",
            "|40.89|40.89|40.89|40.89|A report by Amnes...|[40.8899993896484...|   65936.0|\n",
            "|41.13|41.13|41.13|41.13|A report by Amnes...|[41.1300010681152...|   65936.0|\n",
            "|41.02|41.02|41.02|41.02|A report by Amnes...|[41.0200004577636...|   65936.0|\n",
            "|41.36|41.36|41.36|41.36|A report by Amnes...|[41.3600006103515...|   65936.0|\n",
            "|41.45|41.45|41.45|41.45|A report by Amnes...|[41.4500007629394...|   65936.0|\n",
            "|41.37|41.37|41.37|41.37|A report by Amnes...|[41.3699989318847...|   65936.0|\n",
            "|41.17|41.17|41.17|41.17|A report by Amnes...|[41.1699981689453...|   65936.0|\n",
            "| 41.2|41.29| 41.2|41.29|A report by Amnes...|[41.2000007629394...|   65936.0|\n",
            "|41.45|41.45|41.45|41.45|A report by Amnes...|[41.4500007629394...|   65936.0|\n",
            "|41.33|41.38|41.33|41.38|A report by Amnes...|[41.3300018310546...|   65936.0|\n",
            "|41.38|41.43|41.38|41.43|A report by Amnes...|[41.3800010681152...|   65936.0|\n",
            "|41.34| 41.4|41.31| 41.4|A report by Amnes...|[41.3400001525878...|   65936.0|\n",
            "| 41.4|41.42| 41.4|41.42|A report by Amnes...|[41.4000015258789...|   65936.0|\n",
            "| 41.4|41.43|41.39|41.41|A report by Amnes...|[41.4000015258789...|   65936.0|\n",
            "|41.36|41.36|41.36|41.36|A report by Amnes...|[41.3600006103515...|   65936.0|\n",
            "|41.44|41.44|41.44|41.44|A report by Amnes...|[41.4399986267089...|   65936.0|\n",
            "+-----+-----+-----+-----+--------------------+--------------------+----------+\n",
            "only showing top 20 rows\n",
            "\n"
          ]
        }
      ]
    },
    {
      "cell_type": "code",
      "source": [
        "df_model=df.select('features','word_index')\n",
        "df_model.show( truncate= False)"
      ],
      "metadata": {
        "colab": {
          "base_uri": "https://localhost:8080/"
        },
        "id": "ScD5PFaBTuC-",
        "outputId": "3ea262f2-2644-44f8-b4a3-e6e25b470d61"
      },
      "execution_count": 29,
      "outputs": [
        {
          "output_type": "stream",
          "name": "stdout",
          "text": [
            "+-----------------------------------------------------------------------------+----------+\n",
            "|features                                                                     |word_index|\n",
            "+-----------------------------------------------------------------------------+----------+\n",
            "|[41.040000915527344,41.040000915527344,41.040000915527344,41.040000915527344]|65936.0   |\n",
            "|[40.959999084472656,40.959999084472656,40.959999084472656,40.959999084472656]|65936.0   |\n",
            "|[40.810001373291016,40.810001373291016,40.810001373291016,40.810001373291016]|65936.0   |\n",
            "|[40.79999923706055,40.79999923706055,40.79999923706055,40.79999923706055]    |65936.0   |\n",
            "|[40.88999938964844,40.88999938964844,40.88999938964844,40.88999938964844]    |65936.0   |\n",
            "|[41.130001068115234,41.130001068115234,41.130001068115234,41.130001068115234]|65936.0   |\n",
            "|[41.02000045776367,41.02000045776367,41.02000045776367,41.02000045776367]    |65936.0   |\n",
            "|[41.36000061035156,41.36000061035156,41.36000061035156,41.36000061035156]    |65936.0   |\n",
            "|[41.45000076293945,41.45000076293945,41.45000076293945,41.45000076293945]    |65936.0   |\n",
            "|[41.369998931884766,41.369998931884766,41.369998931884766,41.369998931884766]|65936.0   |\n",
            "|[41.16999816894531,41.16999816894531,41.16999816894531,41.16999816894531]    |65936.0   |\n",
            "|[41.20000076293945,41.290000915527344,41.20000076293945,41.290000915527344]  |65936.0   |\n",
            "|[41.45000076293945,41.45000076293945,41.45000076293945,41.45000076293945]    |65936.0   |\n",
            "|[41.33000183105469,41.380001068115234,41.33000183105469,41.380001068115234]  |65936.0   |\n",
            "|[41.380001068115234,41.43000030517578,41.380001068115234,41.43000030517578]  |65936.0   |\n",
            "|[41.34000015258789,41.400001525878906,41.310001373291016,41.400001525878906] |65936.0   |\n",
            "|[41.400001525878906,41.41999816894531,41.400001525878906,41.41999816894531]  |65936.0   |\n",
            "|[41.400001525878906,41.43000030517578,41.38999938964844,41.40999984741211]   |65936.0   |\n",
            "|[41.36000061035156,41.36000061035156,41.36000061035156,41.36000061035156]    |65936.0   |\n",
            "|[41.439998626708984,41.439998626708984,41.439998626708984,41.439998626708984]|65936.0   |\n",
            "+-----------------------------------------------------------------------------+----------+\n",
            "only showing top 20 rows\n",
            "\n"
          ]
        }
      ]
    },
    {
      "cell_type": "code",
      "source": [
        "(training, test) = df_model.randomSplit([0.8, 0.2], seed = 1234)\n",
        "print (training.first())"
      ],
      "metadata": {
        "colab": {
          "base_uri": "https://localhost:8080/",
          "height": 1000
        },
        "id": "lUtWtPAdVwrP",
        "outputId": "6586871c-f6df-4ef0-f2de-ee117cbca49a"
      },
      "execution_count": 31,
      "outputs": [
        {
          "output_type": "error",
          "ename": "Py4JJavaError",
          "evalue": "ignored",
          "traceback": [
            "\u001b[0;31m---------------------------------------------------------------------------\u001b[0m",
            "\u001b[0;31mPy4JJavaError\u001b[0m                             Traceback (most recent call last)",
            "\u001b[0;32m<ipython-input-31-2f4d9ac74957>\u001b[0m in \u001b[0;36m<module>\u001b[0;34m()\u001b[0m\n\u001b[1;32m      1\u001b[0m \u001b[0;34m(\u001b[0m\u001b[0mtraining\u001b[0m\u001b[0;34m,\u001b[0m \u001b[0mtest\u001b[0m\u001b[0;34m)\u001b[0m \u001b[0;34m=\u001b[0m \u001b[0mdf_model\u001b[0m\u001b[0;34m.\u001b[0m\u001b[0mrandomSplit\u001b[0m\u001b[0;34m(\u001b[0m\u001b[0;34m[\u001b[0m\u001b[0;36m0.8\u001b[0m\u001b[0;34m,\u001b[0m \u001b[0;36m0.2\u001b[0m\u001b[0;34m]\u001b[0m\u001b[0;34m,\u001b[0m \u001b[0mseed\u001b[0m \u001b[0;34m=\u001b[0m \u001b[0;36m1234\u001b[0m\u001b[0;34m)\u001b[0m\u001b[0;34m\u001b[0m\u001b[0;34m\u001b[0m\u001b[0m\n\u001b[0;32m----> 2\u001b[0;31m \u001b[0mprint\u001b[0m\u001b[0;34m(\u001b[0m\u001b[0mtraining\u001b[0m\u001b[0;34m.\u001b[0m\u001b[0mfirst\u001b[0m\u001b[0;34m(\u001b[0m\u001b[0;34m)\u001b[0m\u001b[0;34m)\u001b[0m\u001b[0;34m\u001b[0m\u001b[0;34m\u001b[0m\u001b[0m\n\u001b[0m",
            "\u001b[0;32m/content/spark-3.1.2-bin-hadoop2.7/python/pyspark/sql/dataframe.py\u001b[0m in \u001b[0;36mfirst\u001b[0;34m(self)\u001b[0m\n\u001b[1;32m   1599\u001b[0m         \u001b[0mRow\u001b[0m\u001b[0;34m(\u001b[0m\u001b[0mage\u001b[0m\u001b[0;34m=\u001b[0m\u001b[0;36m2\u001b[0m\u001b[0;34m,\u001b[0m \u001b[0mname\u001b[0m\u001b[0;34m=\u001b[0m\u001b[0;34m'Alice'\u001b[0m\u001b[0;34m)\u001b[0m\u001b[0;34m\u001b[0m\u001b[0;34m\u001b[0m\u001b[0m\n\u001b[1;32m   1600\u001b[0m         \"\"\"\n\u001b[0;32m-> 1601\u001b[0;31m         \u001b[0;32mreturn\u001b[0m \u001b[0mself\u001b[0m\u001b[0;34m.\u001b[0m\u001b[0mhead\u001b[0m\u001b[0;34m(\u001b[0m\u001b[0;34m)\u001b[0m\u001b[0;34m\u001b[0m\u001b[0;34m\u001b[0m\u001b[0m\n\u001b[0m\u001b[1;32m   1602\u001b[0m \u001b[0;34m\u001b[0m\u001b[0m\n\u001b[1;32m   1603\u001b[0m     \u001b[0;32mdef\u001b[0m \u001b[0m__getitem__\u001b[0m\u001b[0;34m(\u001b[0m\u001b[0mself\u001b[0m\u001b[0;34m,\u001b[0m \u001b[0mitem\u001b[0m\u001b[0;34m)\u001b[0m\u001b[0;34m:\u001b[0m\u001b[0;34m\u001b[0m\u001b[0;34m\u001b[0m\u001b[0m\n",
            "\u001b[0;32m/content/spark-3.1.2-bin-hadoop2.7/python/pyspark/sql/dataframe.py\u001b[0m in \u001b[0;36mhead\u001b[0;34m(self, n)\u001b[0m\n\u001b[1;32m   1585\u001b[0m         \"\"\"\n\u001b[1;32m   1586\u001b[0m         \u001b[0;32mif\u001b[0m \u001b[0mn\u001b[0m \u001b[0;32mis\u001b[0m \u001b[0;32mNone\u001b[0m\u001b[0;34m:\u001b[0m\u001b[0;34m\u001b[0m\u001b[0;34m\u001b[0m\u001b[0m\n\u001b[0;32m-> 1587\u001b[0;31m             \u001b[0mrs\u001b[0m \u001b[0;34m=\u001b[0m \u001b[0mself\u001b[0m\u001b[0;34m.\u001b[0m\u001b[0mhead\u001b[0m\u001b[0;34m(\u001b[0m\u001b[0;36m1\u001b[0m\u001b[0;34m)\u001b[0m\u001b[0;34m\u001b[0m\u001b[0;34m\u001b[0m\u001b[0m\n\u001b[0m\u001b[1;32m   1588\u001b[0m             \u001b[0;32mreturn\u001b[0m \u001b[0mrs\u001b[0m\u001b[0;34m[\u001b[0m\u001b[0;36m0\u001b[0m\u001b[0;34m]\u001b[0m \u001b[0;32mif\u001b[0m \u001b[0mrs\u001b[0m \u001b[0;32melse\u001b[0m \u001b[0;32mNone\u001b[0m\u001b[0;34m\u001b[0m\u001b[0;34m\u001b[0m\u001b[0m\n\u001b[1;32m   1589\u001b[0m         \u001b[0;32mreturn\u001b[0m \u001b[0mself\u001b[0m\u001b[0;34m.\u001b[0m\u001b[0mtake\u001b[0m\u001b[0;34m(\u001b[0m\u001b[0mn\u001b[0m\u001b[0;34m)\u001b[0m\u001b[0;34m\u001b[0m\u001b[0;34m\u001b[0m\u001b[0m\n",
            "\u001b[0;32m/content/spark-3.1.2-bin-hadoop2.7/python/pyspark/sql/dataframe.py\u001b[0m in \u001b[0;36mhead\u001b[0;34m(self, n)\u001b[0m\n\u001b[1;32m   1587\u001b[0m             \u001b[0mrs\u001b[0m \u001b[0;34m=\u001b[0m \u001b[0mself\u001b[0m\u001b[0;34m.\u001b[0m\u001b[0mhead\u001b[0m\u001b[0;34m(\u001b[0m\u001b[0;36m1\u001b[0m\u001b[0;34m)\u001b[0m\u001b[0;34m\u001b[0m\u001b[0;34m\u001b[0m\u001b[0m\n\u001b[1;32m   1588\u001b[0m             \u001b[0;32mreturn\u001b[0m \u001b[0mrs\u001b[0m\u001b[0;34m[\u001b[0m\u001b[0;36m0\u001b[0m\u001b[0;34m]\u001b[0m \u001b[0;32mif\u001b[0m \u001b[0mrs\u001b[0m \u001b[0;32melse\u001b[0m \u001b[0;32mNone\u001b[0m\u001b[0;34m\u001b[0m\u001b[0;34m\u001b[0m\u001b[0m\n\u001b[0;32m-> 1589\u001b[0;31m         \u001b[0;32mreturn\u001b[0m \u001b[0mself\u001b[0m\u001b[0;34m.\u001b[0m\u001b[0mtake\u001b[0m\u001b[0;34m(\u001b[0m\u001b[0mn\u001b[0m\u001b[0;34m)\u001b[0m\u001b[0;34m\u001b[0m\u001b[0;34m\u001b[0m\u001b[0m\n\u001b[0m\u001b[1;32m   1590\u001b[0m \u001b[0;34m\u001b[0m\u001b[0m\n\u001b[1;32m   1591\u001b[0m     \u001b[0;32mdef\u001b[0m \u001b[0mfirst\u001b[0m\u001b[0;34m(\u001b[0m\u001b[0mself\u001b[0m\u001b[0;34m)\u001b[0m\u001b[0;34m:\u001b[0m\u001b[0;34m\u001b[0m\u001b[0;34m\u001b[0m\u001b[0m\n",
            "\u001b[0;32m/content/spark-3.1.2-bin-hadoop2.7/python/pyspark/sql/dataframe.py\u001b[0m in \u001b[0;36mtake\u001b[0;34m(self, num)\u001b[0m\n\u001b[1;32m    726\u001b[0m         \u001b[0;34m[\u001b[0m\u001b[0mRow\u001b[0m\u001b[0;34m(\u001b[0m\u001b[0mage\u001b[0m\u001b[0;34m=\u001b[0m\u001b[0;36m2\u001b[0m\u001b[0;34m,\u001b[0m \u001b[0mname\u001b[0m\u001b[0;34m=\u001b[0m\u001b[0;34m'Alice'\u001b[0m\u001b[0;34m)\u001b[0m\u001b[0;34m,\u001b[0m \u001b[0mRow\u001b[0m\u001b[0;34m(\u001b[0m\u001b[0mage\u001b[0m\u001b[0;34m=\u001b[0m\u001b[0;36m5\u001b[0m\u001b[0;34m,\u001b[0m \u001b[0mname\u001b[0m\u001b[0;34m=\u001b[0m\u001b[0;34m'Bob'\u001b[0m\u001b[0;34m)\u001b[0m\u001b[0;34m]\u001b[0m\u001b[0;34m\u001b[0m\u001b[0;34m\u001b[0m\u001b[0m\n\u001b[1;32m    727\u001b[0m         \"\"\"\n\u001b[0;32m--> 728\u001b[0;31m         \u001b[0;32mreturn\u001b[0m \u001b[0mself\u001b[0m\u001b[0;34m.\u001b[0m\u001b[0mlimit\u001b[0m\u001b[0;34m(\u001b[0m\u001b[0mnum\u001b[0m\u001b[0;34m)\u001b[0m\u001b[0;34m.\u001b[0m\u001b[0mcollect\u001b[0m\u001b[0;34m(\u001b[0m\u001b[0;34m)\u001b[0m\u001b[0;34m\u001b[0m\u001b[0;34m\u001b[0m\u001b[0m\n\u001b[0m\u001b[1;32m    729\u001b[0m \u001b[0;34m\u001b[0m\u001b[0m\n\u001b[1;32m    730\u001b[0m     \u001b[0;32mdef\u001b[0m \u001b[0mtail\u001b[0m\u001b[0;34m(\u001b[0m\u001b[0mself\u001b[0m\u001b[0;34m,\u001b[0m \u001b[0mnum\u001b[0m\u001b[0;34m)\u001b[0m\u001b[0;34m:\u001b[0m\u001b[0;34m\u001b[0m\u001b[0;34m\u001b[0m\u001b[0m\n",
            "\u001b[0;32m/content/spark-3.1.2-bin-hadoop2.7/python/pyspark/sql/dataframe.py\u001b[0m in \u001b[0;36mcollect\u001b[0;34m(self)\u001b[0m\n\u001b[1;32m    675\u001b[0m         \"\"\"\n\u001b[1;32m    676\u001b[0m         \u001b[0;32mwith\u001b[0m \u001b[0mSCCallSiteSync\u001b[0m\u001b[0;34m(\u001b[0m\u001b[0mself\u001b[0m\u001b[0;34m.\u001b[0m\u001b[0m_sc\u001b[0m\u001b[0;34m)\u001b[0m \u001b[0;32mas\u001b[0m \u001b[0mcss\u001b[0m\u001b[0;34m:\u001b[0m\u001b[0;34m\u001b[0m\u001b[0;34m\u001b[0m\u001b[0m\n\u001b[0;32m--> 677\u001b[0;31m             \u001b[0msock_info\u001b[0m \u001b[0;34m=\u001b[0m \u001b[0mself\u001b[0m\u001b[0;34m.\u001b[0m\u001b[0m_jdf\u001b[0m\u001b[0;34m.\u001b[0m\u001b[0mcollectToPython\u001b[0m\u001b[0;34m(\u001b[0m\u001b[0;34m)\u001b[0m\u001b[0;34m\u001b[0m\u001b[0;34m\u001b[0m\u001b[0m\n\u001b[0m\u001b[1;32m    678\u001b[0m         \u001b[0;32mreturn\u001b[0m \u001b[0mlist\u001b[0m\u001b[0;34m(\u001b[0m\u001b[0m_load_from_socket\u001b[0m\u001b[0;34m(\u001b[0m\u001b[0msock_info\u001b[0m\u001b[0;34m,\u001b[0m \u001b[0mBatchedSerializer\u001b[0m\u001b[0;34m(\u001b[0m\u001b[0mPickleSerializer\u001b[0m\u001b[0;34m(\u001b[0m\u001b[0;34m)\u001b[0m\u001b[0;34m)\u001b[0m\u001b[0;34m)\u001b[0m\u001b[0;34m)\u001b[0m\u001b[0;34m\u001b[0m\u001b[0;34m\u001b[0m\u001b[0m\n\u001b[1;32m    679\u001b[0m \u001b[0;34m\u001b[0m\u001b[0m\n",
            "\u001b[0;32m/content/spark-3.1.2-bin-hadoop2.7/python/lib/py4j-0.10.9-src.zip/py4j/java_gateway.py\u001b[0m in \u001b[0;36m__call__\u001b[0;34m(self, *args)\u001b[0m\n\u001b[1;32m   1303\u001b[0m         \u001b[0manswer\u001b[0m \u001b[0;34m=\u001b[0m \u001b[0mself\u001b[0m\u001b[0;34m.\u001b[0m\u001b[0mgateway_client\u001b[0m\u001b[0;34m.\u001b[0m\u001b[0msend_command\u001b[0m\u001b[0;34m(\u001b[0m\u001b[0mcommand\u001b[0m\u001b[0;34m)\u001b[0m\u001b[0;34m\u001b[0m\u001b[0;34m\u001b[0m\u001b[0m\n\u001b[1;32m   1304\u001b[0m         return_value = get_return_value(\n\u001b[0;32m-> 1305\u001b[0;31m             answer, self.gateway_client, self.target_id, self.name)\n\u001b[0m\u001b[1;32m   1306\u001b[0m \u001b[0;34m\u001b[0m\u001b[0m\n\u001b[1;32m   1307\u001b[0m         \u001b[0;32mfor\u001b[0m \u001b[0mtemp_arg\u001b[0m \u001b[0;32min\u001b[0m \u001b[0mtemp_args\u001b[0m\u001b[0;34m:\u001b[0m\u001b[0;34m\u001b[0m\u001b[0;34m\u001b[0m\u001b[0m\n",
            "\u001b[0;32m/content/spark-3.1.2-bin-hadoop2.7/python/pyspark/sql/utils.py\u001b[0m in \u001b[0;36mdeco\u001b[0;34m(*a, **kw)\u001b[0m\n\u001b[1;32m    109\u001b[0m     \u001b[0;32mdef\u001b[0m \u001b[0mdeco\u001b[0m\u001b[0;34m(\u001b[0m\u001b[0;34m*\u001b[0m\u001b[0ma\u001b[0m\u001b[0;34m,\u001b[0m \u001b[0;34m**\u001b[0m\u001b[0mkw\u001b[0m\u001b[0;34m)\u001b[0m\u001b[0;34m:\u001b[0m\u001b[0;34m\u001b[0m\u001b[0;34m\u001b[0m\u001b[0m\n\u001b[1;32m    110\u001b[0m         \u001b[0;32mtry\u001b[0m\u001b[0;34m:\u001b[0m\u001b[0;34m\u001b[0m\u001b[0;34m\u001b[0m\u001b[0m\n\u001b[0;32m--> 111\u001b[0;31m             \u001b[0;32mreturn\u001b[0m \u001b[0mf\u001b[0m\u001b[0;34m(\u001b[0m\u001b[0;34m*\u001b[0m\u001b[0ma\u001b[0m\u001b[0;34m,\u001b[0m \u001b[0;34m**\u001b[0m\u001b[0mkw\u001b[0m\u001b[0;34m)\u001b[0m\u001b[0;34m\u001b[0m\u001b[0;34m\u001b[0m\u001b[0m\n\u001b[0m\u001b[1;32m    112\u001b[0m         \u001b[0;32mexcept\u001b[0m \u001b[0mpy4j\u001b[0m\u001b[0;34m.\u001b[0m\u001b[0mprotocol\u001b[0m\u001b[0;34m.\u001b[0m\u001b[0mPy4JJavaError\u001b[0m \u001b[0;32mas\u001b[0m \u001b[0me\u001b[0m\u001b[0;34m:\u001b[0m\u001b[0;34m\u001b[0m\u001b[0;34m\u001b[0m\u001b[0m\n\u001b[1;32m    113\u001b[0m             \u001b[0mconverted\u001b[0m \u001b[0;34m=\u001b[0m \u001b[0mconvert_exception\u001b[0m\u001b[0;34m(\u001b[0m\u001b[0me\u001b[0m\u001b[0;34m.\u001b[0m\u001b[0mjava_exception\u001b[0m\u001b[0;34m)\u001b[0m\u001b[0;34m\u001b[0m\u001b[0;34m\u001b[0m\u001b[0m\n",
            "\u001b[0;32m/content/spark-3.1.2-bin-hadoop2.7/python/lib/py4j-0.10.9-src.zip/py4j/protocol.py\u001b[0m in \u001b[0;36mget_return_value\u001b[0;34m(answer, gateway_client, target_id, name)\u001b[0m\n\u001b[1;32m    326\u001b[0m                 raise Py4JJavaError(\n\u001b[1;32m    327\u001b[0m                     \u001b[0;34m\"An error occurred while calling {0}{1}{2}.\\n\"\u001b[0m\u001b[0;34m.\u001b[0m\u001b[0;34m\u001b[0m\u001b[0;34m\u001b[0m\u001b[0m\n\u001b[0;32m--> 328\u001b[0;31m                     format(target_id, \".\", name), value)\n\u001b[0m\u001b[1;32m    329\u001b[0m             \u001b[0;32melse\u001b[0m\u001b[0;34m:\u001b[0m\u001b[0;34m\u001b[0m\u001b[0;34m\u001b[0m\u001b[0m\n\u001b[1;32m    330\u001b[0m                 raise Py4JError(\n",
            "\u001b[0;31mPy4JJavaError\u001b[0m: An error occurred while calling o223.collectToPython.\n: org.apache.spark.SparkException: Job aborted due to stage failure: Task 0 in stage 35.0 failed 1 times, most recent failure: Lost task 0.0 in stage 35.0 (TID 35) (1cb2fe48d9ec executor driver): org.apache.spark.SparkException: Failed to execute user defined function(StringIndexerModel$$Lambda$3556/0x0000000841452840: (string) => double)\n\tat org.apache.spark.sql.catalyst.expressions.GeneratedClass$GeneratedIteratorForCodegenStage2.sort_addToSorter_0$(Unknown Source)\n\tat org.apache.spark.sql.catalyst.expressions.GeneratedClass$GeneratedIteratorForCodegenStage2.processNext(Unknown Source)\n\tat org.apache.spark.sql.execution.BufferedRowIterator.hasNext(BufferedRowIterator.java:43)\n\tat org.apache.spark.sql.execution.WholeStageCodegenExec$$anon$1.hasNext(WholeStageCodegenExec.scala:755)\n\tat org.apache.spark.sql.execution.SparkPlan.$anonfun$getByteArrayRdd$1(SparkPlan.scala:345)\n\tat org.apache.spark.rdd.RDD.$anonfun$mapPartitionsInternal$2(RDD.scala:898)\n\tat org.apache.spark.rdd.RDD.$anonfun$mapPartitionsInternal$2$adapted(RDD.scala:898)\n\tat org.apache.spark.rdd.MapPartitionsRDD.compute(MapPartitionsRDD.scala:52)\n\tat org.apache.spark.rdd.RDD.computeOrReadCheckpoint(RDD.scala:373)\n\tat org.apache.spark.rdd.RDD.iterator(RDD.scala:337)\n\tat org.apache.spark.scheduler.ResultTask.runTask(ResultTask.scala:90)\n\tat org.apache.spark.scheduler.Task.run(Task.scala:131)\n\tat org.apache.spark.executor.Executor$TaskRunner.$anonfun$run$3(Executor.scala:497)\n\tat org.apache.spark.util.Utils$.tryWithSafeFinally(Utils.scala:1439)\n\tat org.apache.spark.executor.Executor$TaskRunner.run(Executor.scala:500)\n\tat java.base/java.util.concurrent.ThreadPoolExecutor.runWorker(ThreadPoolExecutor.java:1128)\n\tat java.base/java.util.concurrent.ThreadPoolExecutor$Worker.run(ThreadPoolExecutor.java:628)\n\tat java.base/java.lang.Thread.run(Thread.java:829)\nCaused by: org.apache.spark.SparkException: StringIndexer encountered NULL value. To handle or skip NULLS, try setting StringIndexer.handleInvalid.\n\tat org.apache.spark.ml.feature.StringIndexerModel.$anonfun$getIndexer$1(StringIndexer.scala:396)\n\tat org.apache.spark.ml.feature.StringIndexerModel.$anonfun$getIndexer$1$adapted(StringIndexer.scala:391)\n\t... 18 more\n\nDriver stacktrace:\n\tat org.apache.spark.scheduler.DAGScheduler.failJobAndIndependentStages(DAGScheduler.scala:2258)\n\tat org.apache.spark.scheduler.DAGScheduler.$anonfun$abortStage$2(DAGScheduler.scala:2207)\n\tat org.apache.spark.scheduler.DAGScheduler.$anonfun$abortStage$2$adapted(DAGScheduler.scala:2206)\n\tat scala.collection.mutable.ResizableArray.foreach(ResizableArray.scala:62)\n\tat scala.collection.mutable.ResizableArray.foreach$(ResizableArray.scala:55)\n\tat scala.collection.mutable.ArrayBuffer.foreach(ArrayBuffer.scala:49)\n\tat org.apache.spark.scheduler.DAGScheduler.abortStage(DAGScheduler.scala:2206)\n\tat org.apache.spark.scheduler.DAGScheduler.$anonfun$handleTaskSetFailed$1(DAGScheduler.scala:1079)\n\tat org.apache.spark.scheduler.DAGScheduler.$anonfun$handleTaskSetFailed$1$adapted(DAGScheduler.scala:1079)\n\tat scala.Option.foreach(Option.scala:407)\n\tat org.apache.spark.scheduler.DAGScheduler.handleTaskSetFailed(DAGScheduler.scala:1079)\n\tat org.apache.spark.scheduler.DAGSchedulerEventProcessLoop.doOnReceive(DAGScheduler.scala:2445)\n\tat org.apache.spark.scheduler.DAGSchedulerEventProcessLoop.onReceive(DAGScheduler.scala:2387)\n\tat org.apache.spark.scheduler.DAGSchedulerEventProcessLoop.onReceive(DAGScheduler.scala:2376)\n\tat org.apache.spark.util.EventLoop$$anon$1.run(EventLoop.scala:49)\n\tat org.apache.spark.scheduler.DAGScheduler.runJob(DAGScheduler.scala:868)\n\tat org.apache.spark.SparkContext.runJob(SparkContext.scala:2196)\n\tat org.apache.spark.SparkContext.runJob(SparkContext.scala:2217)\n\tat org.apache.spark.SparkContext.runJob(SparkContext.scala:2236)\n\tat org.apache.spark.sql.execution.SparkPlan.executeTake(SparkPlan.scala:472)\n\tat org.apache.spark.sql.execution.SparkPlan.executeTake(SparkPlan.scala:425)\n\tat org.apache.spark.sql.execution.CollectLimitExec.executeCollect(limit.scala:47)\n\tat org.apache.spark.sql.Dataset.$anonfun$collectToPython$1(Dataset.scala:3519)\n\tat org.apache.spark.sql.Dataset.$anonfun$withAction$1(Dataset.scala:3687)\n\tat org.apache.spark.sql.execution.SQLExecution$.$anonfun$withNewExecutionId$5(SQLExecution.scala:103)\n\tat org.apache.spark.sql.execution.SQLExecution$.withSQLConfPropagated(SQLExecution.scala:163)\n\tat org.apache.spark.sql.execution.SQLExecution$.$anonfun$withNewExecutionId$1(SQLExecution.scala:90)\n\tat org.apache.spark.sql.SparkSession.withActive(SparkSession.scala:775)\n\tat org.apache.spark.sql.execution.SQLExecution$.withNewExecutionId(SQLExecution.scala:64)\n\tat org.apache.spark.sql.Dataset.withAction(Dataset.scala:3685)\n\tat org.apache.spark.sql.Dataset.collectToPython(Dataset.scala:3516)\n\tat java.base/jdk.internal.reflect.NativeMethodAccessorImpl.invoke0(Native Method)\n\tat java.base/jdk.internal.reflect.NativeMethodAccessorImpl.invoke(NativeMethodAccessorImpl.java:62)\n\tat java.base/jdk.internal.reflect.DelegatingMethodAccessorImpl.invoke(DelegatingMethodAccessorImpl.java:43)\n\tat java.base/java.lang.reflect.Method.invoke(Method.java:566)\n\tat py4j.reflection.MethodInvoker.invoke(MethodInvoker.java:244)\n\tat py4j.reflection.ReflectionEngine.invoke(ReflectionEngine.java:357)\n\tat py4j.Gateway.invoke(Gateway.java:282)\n\tat py4j.commands.AbstractCommand.invokeMethod(AbstractCommand.java:132)\n\tat py4j.commands.CallCommand.execute(CallCommand.java:79)\n\tat py4j.GatewayConnection.run(GatewayConnection.java:238)\n\tat java.base/java.lang.Thread.run(Thread.java:829)\nCaused by: org.apache.spark.SparkException: Failed to execute user defined function(StringIndexerModel$$Lambda$3556/0x0000000841452840: (string) => double)\n\tat org.apache.spark.sql.catalyst.expressions.GeneratedClass$GeneratedIteratorForCodegenStage2.sort_addToSorter_0$(Unknown Source)\n\tat org.apache.spark.sql.catalyst.expressions.GeneratedClass$GeneratedIteratorForCodegenStage2.processNext(Unknown Source)\n\tat org.apache.spark.sql.execution.BufferedRowIterator.hasNext(BufferedRowIterator.java:43)\n\tat org.apache.spark.sql.execution.WholeStageCodegenExec$$anon$1.hasNext(WholeStageCodegenExec.scala:755)\n\tat org.apache.spark.sql.execution.SparkPlan.$anonfun$getByteArrayRdd$1(SparkPlan.scala:345)\n\tat org.apache.spark.rdd.RDD.$anonfun$mapPartitionsInternal$2(RDD.scala:898)\n\tat org.apache.spark.rdd.RDD.$anonfun$mapPartitionsInternal$2$adapted(RDD.scala:898)\n\tat org.apache.spark.rdd.MapPartitionsRDD.compute(MapPartitionsRDD.scala:52)\n\tat org.apache.spark.rdd.RDD.computeOrReadCheckpoint(RDD.scala:373)\n\tat org.apache.spark.rdd.RDD.iterator(RDD.scala:337)\n\tat org.apache.spark.scheduler.ResultTask.runTask(ResultTask.scala:90)\n\tat org.apache.spark.scheduler.Task.run(Task.scala:131)\n\tat org.apache.spark.executor.Executor$TaskRunner.$anonfun$run$3(Executor.scala:497)\n\tat org.apache.spark.util.Utils$.tryWithSafeFinally(Utils.scala:1439)\n\tat org.apache.spark.executor.Executor$TaskRunner.run(Executor.scala:500)\n\tat java.base/java.util.concurrent.ThreadPoolExecutor.runWorker(ThreadPoolExecutor.java:1128)\n\tat java.base/java.util.concurrent.ThreadPoolExecutor$Worker.run(ThreadPoolExecutor.java:628)\n\t... 1 more\nCaused by: org.apache.spark.SparkException: StringIndexer encountered NULL value. To handle or skip NULLS, try setting StringIndexer.handleInvalid.\n\tat org.apache.spark.ml.feature.StringIndexerModel.$anonfun$getIndexer$1(StringIndexer.scala:396)\n\tat org.apache.spark.ml.feature.StringIndexerModel.$anonfun$getIndexer$1$adapted(StringIndexer.scala:391)\n\t... 18 more\n"
          ]
        }
      ]
    },
    {
      "cell_type": "code",
      "source": [
        "#Linear regression model\n",
        "from pyspark.ml.regression import LinearRegression\n",
        "Linear_Regression=LinearRegression(labelCol='word_index')\n",
        "regression = Linear_Regression.fit(training)"
      ],
      "metadata": {
        "id": "jxeiyZadT3-y"
      },
      "execution_count": null,
      "outputs": []
    }
  ]
}