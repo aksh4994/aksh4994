{
  "nbformat": 4,
  "nbformat_minor": 0,
  "metadata": {
    "colab": {
      "name": "NewsSentimentAnalysis.ipynb",
      "provenance": [],
      "collapsed_sections": []
    },
    "kernelspec": {
      "name": "python3",
      "display_name": "Python 3"
    },
    "language_info": {
      "name": "python"
    }
  },
  "cells": [
    {
      "cell_type": "code",
      "execution_count": 1,
      "metadata": {
        "id": "2sg_kXQmXRBu"
      },
      "outputs": [],
      "source": [
        "# Spark init\n",
        "!wget -q https://dlcdn.apache.org/spark/spark-3.1.2/spark-3.1.2-bin-hadoop2.7.tgz \n",
        "!tar xf spark-3.1.2-bin-hadoop2.7.tgz\n",
        "import os\n",
        "os.environ[\"JAVA_HOME\"] = \"/usr/lib/jvm/default-java\"\n",
        "os.environ[\"SPARK_HOME\"] = \"/content/spark-3.1.2-bin-hadoop2.7\"\n",
        "!pip install -q findspark\n",
        "import findspark\n",
        "findspark.init()\n",
        "\n",
        "from pyspark.sql import SparkSession\n",
        "spark = SparkSession.builder\\\n",
        "        .master(\"local\")\\\n",
        "        .appName(\"Colab\")\\\n",
        "        .config('spark.ui.port', '4050')\\\n",
        "        .getOrCreate()"
      ]
    },
    {
      "cell_type": "code",
      "source": [
        "!head -5 /content/drive/MyDrive/data/2020-22 NYT Headlines.csv"
      ],
      "metadata": {
        "colab": {
          "base_uri": "https://localhost:8080/"
        },
        "id": "Z0N__r8OY8DA",
        "outputId": "8ef2e56c-1087-4f7c-bbc5-c8b5fcb985f7"
      },
      "execution_count": 2,
      "outputs": [
        {
          "output_type": "stream",
          "name": "stdout",
          "text": [
            "head: cannot open '/content/drive/MyDrive/data/2020-22' for reading: No such file or directory\n",
            "head: cannot open 'NYT' for reading: No such file or directory\n",
            "head: cannot open 'Headlines.csv' for reading: No such file or directory\n"
          ]
        }
      ]
    },
    {
      "cell_type": "code",
      "source": [
        "df = spark.read.csv(\"/content/drive/MyDrive/data/2020-22 NYT Headlines.csv\", sep=',', header=True)"
      ],
      "metadata": {
        "id": "6sqICFciXnb6"
      },
      "execution_count": 3,
      "outputs": []
    },
    {
      "cell_type": "code",
      "source": [
        "df.show(truncate = False)"
      ],
      "metadata": {
        "colab": {
          "base_uri": "https://localhost:8080/"
        },
        "id": "FToYuLhwZFX7",
        "outputId": "e1cf5990-8bbb-48a3-a9c8-68d75a4356b0"
      },
      "execution_count": 4,
      "outputs": [
        {
          "output_type": "stream",
          "name": "stdout",
          "text": [
            "+--------------------------------------------------------------------------------------+--------+--------+---------------------------------------------------------------------------------------------------------------------------------------+------------------------------------------------------------------------------------------------------------------------------------------------------------------------------------+-----------------------------------------------------------------------------------------------------------------------------------------------------------------------------------------------+\n",
            "|headline                                                                              |date    |doc_type|URL                                                                                                                                    |snippet                                                                                                                                                                             |keywords                                                                                                                                                                                       |\n",
            "+--------------------------------------------------------------------------------------+--------+--------+---------------------------------------------------------------------------------------------------------------------------------------+------------------------------------------------------------------------------------------------------------------------------------------------------------------------------------+-----------------------------------------------------------------------------------------------------------------------------------------------------------------------------------------------+\n",
            "|Already Had Plenty of Trump 2020?                                                     |1/2/2020|article |https://www.nytimes.com/2020/01/01/opinion/trump-2020.html                                                                             |He’s a bad show, but it’s not low-flow.                                                                                                                                             |['Presidential Election of 2020', 'United States Politics and Government']                                                                                                                     |\n",
            "|Why Did One-Quarter of the World’s Pigs Die in a Year?                                |1/2/2020|article |https://www.nytimes.com/2020/01/01/opinion/china-swine-fever.html                                                                      |Swine fever devastated China’s stock because with unsound governance, even sound regulations have perverse effects.                                                                 |['Pigs', 'Agriculture and Farming', 'Pork', 'Livestock Diseases', 'Slaughterhouses', 'Politics and Government', 'AFRICAN SWINE FEVER', 'SARS (Severe Acute Respiratory Syndrome)', 'Epidemics']|\n",
            "|Coast Guard Suspends Search for 5 Missing After Fishing Boat Sinks Off Alaska         |1/2/2020|article |https://www.nytimes.com/2020/01/01/us/scandies-rose-fishing-boat-alaska.html                                                           |Two of seven crew members were rescued after the Scandies Rose, a 130-foot-long crab fishing vessel, sank on Tuesday night, the Coast Guard said.                                   |['Rescues', 'Maritime Accidents and Safety', 'Fishing, Commercial']                                                                                                                            |\n",
            "|N.B.A. Superstars, Growth and Lockouts: The David Stern Years                         |1/2/2020|article |https://www.nytimes.com/2020/01/01/sports/basketball/david-stern-commissioner-timeline.html                                            |The longtime commissioner received acclaim for building the league into a vital global business, but he also was at the center of contentious disputes.                             |['Basketball']                                                                                                                                                                                 |\n",
            "|In Rose Bowl Victory Over Wisconsin, Oregon Shows Rebuild Needs Work                  |1/2/2020|article |https://www.nytimes.com/2020/01/01/sports/ncaafootball/rose-bowl-oregon.html                                                           |The Ducks managed to win with only 204 yards in total offense — the fewest by a team in the Rose Bowl since 1979.                                                                   |['Football (College)', 'Rose Bowl (Football Game)', 'Bowl Games']                                                                                                                              |\n",
            "|Where Darth Vader Gets His Strength                                                   |1/2/2020|article |https://www.nytimes.com/2020/01/01/crosswords/daily-puzzle-2020-01-02.html                                                             |Ed Sessa turns the lights out on us.                                                                                                                                                |['Crossword Puzzles']                                                                                                                                                                          |\n",
            "|Don Larsen, Yankee Who Pitched Only Perfect Game in World Series History, Dies at 90  |1/2/2020|article |https://www.nytimes.com/2020/01/01/obituaries/don-larsen-dead.html                                                                     |He retired after 14 seasons with a losing record for his career, but for one day in 1956 he was the picture of perfection.                                                          |['Deaths (Obituaries)', 'Baseball', 'World Series']                                                                                                                                            |\n",
            "|No Corrections: Jan. 2, 2020                                                          |1/2/2020|article |https://www.nytimes.com/2020/01/01/pageoneplus/corrections-jan-02-2020.html                                                            |No corrections appeared in print on Thursday, Jan. 2, 2020.                                                                                                                         |[]                                                                                                                                                                                             |\n",
            "|India Cold Wave Breaks Records, Shuts Schools and Makes Bad Air Worse                 |1/2/2020|article |https://www.nytimes.com/2020/01/01/world/asia/india-cold-pollution.html                                                                |Across the north, including New Delhi, plunging temperatures have caused a run on shelters in a region more used to extreme heat.                                                   |['Weather', 'Traffic Accidents and Safety', 'Temperature', 'Homeless Persons']                                                                                                                 |\n",
            "|Quotation of the Day: Pika-Who? How Canada’s Military Reacted to a Pokémon Go Invasion|1/2/2020|article |https://www.nytimes.com/2020/01/01/todayspaper/quotation-of-the-day-pika-who-how-canadas-military-reacted-to-a-pokemon-go-invasion.html|Quotation of the Day for Thursday, January 2, 2020.                                                                                                                                 |[]                                                                                                                                                                                             |\n",
            "|Head-Scarf Ban and Carbon Taxes: Austria Gets an Unlikely Government                  |1/2/2020|article |https://www.nytimes.com/2020/01/02/world/europe/austria-kurz-greens-coalition-government.html                                          |After months of talks, Sebastian Kurz’s conservatives and progressive Greens agreed on a coalition that could be a harbinger for the rest of Europe.                                |['Elections', 'Legislatures and Parliaments', 'Politics and Government']                                                                                                                       |\n",
            "|Your Thursday Briefing                                                                |1/2/2020|article |https://www.nytimes.com/2020/01/02/briefing/austria-australia-fires-2020.html                                                          |Austria, Australia fires, 2020: Here’s what you need to know.                                                                                                                       |[]                                                                                                                                                                                             |\n",
            "|What’s on TV Thursday: ‘Breakthrough’ and ‘Surviving R. Kelly Part II’                |1/2/2020|article |https://www.nytimes.com/2020/01/02/arts/television/whats-on-tv-thursday-surviving-r-kelly-part-ii.html                                 |A drama based on a miraculous Missouri incident airs on HBO. And Lifetime airs a follow-up to its much-viewed R. Kelly documentary series.                                          |['Television', 'Movies']                                                                                                                                                                       |\n",
            "|Word + Quiz: subsume                                                                  |1/2/2020|article |https://www.nytimes.com/2020/01/02/learning/word-quiz-subsume.html                                                                     |This word has appeared in 19 articles on NYTimes.com in the past year.                                                                                                              |[]                                                                                                                                                                                             |\n",
            "|Taiwan’s Top Military Official and 7 Others Die in Helicopter Crash                   |1/2/2020|article |https://www.nytimes.com/2020/01/02/world/asia/taiwan-military-chief-helicopter-crash.html                                              |The helicopter was carrying military personnel to an event in northeastern Taiwan when it went down on a wooded mountainside.                                                       |['Defense and Military Forces', 'Helicopters', 'Aviation Accidents, Safety and Disasters', 'Deaths (Fatalities)']                                                                              |\n",
            "|New Year, New You?                                                                    |1/2/2020|article |https://www.nytimes.com/2020/01/02/learning/new-year-new-you.html                                                                      |What are your resolutions for 2020?                                                                                                                                                 |[]                                                                                                                                                                                             |\n",
            "|‘Surviving R. Kelly’ Night One Recap: Threats and New Abuse Details                   |1/2/2020|article |https://www.nytimes.com/2020/01/02/arts/television/surviving-r-kelly-2.html                                                            |A new Lifetime series examines the criminal charges against the singer, and how accusing him changed the lives of the women who came forward.                                       |['Television', 'Documentary Films and Programs', 'Sex Crimes', 'Child Abuse and Neglect', '#MeToo Movement', 'RHYTHM AND BLUES (MUSIC)']                                                       |\n",
            "|How David Stern Navigated Race in the N.B.A.                                          |1/2/2020|article |https://www.nytimes.com/2020/01/02/sports/basketball/david-stern-nba.html                                                              |Stern was known as a fierce negotiator who was considerate of the racial implications of overseeing a mostly black league, though he also faced criticism for some of his decisions.|['Basketball', 'Black People', 'Blacks', 'Race and Ethnicity', 'Labor and Jobs']                                                                                                               |\n",
            "|Flash Floods in Indonesia Leave Hundreds of Thousands Homeless                        |1/2/2020|article |https://www.nytimes.com/2020/01/02/world/asia/indonesia-jakarta-rain-floods.html                                                       |At least 43 people have been killed in the most intense rains to strike Jakarta, the country’s capital, since record keeping began.                                                 |['Floods', 'New Year', 'Rain']                                                                                                                                                                 |\n",
            "|Lesson of the Day: ‘The Machines Are Learning, and So Are the Students’               |1/2/2020|article |https://www.nytimes.com/2020/01/02/learning/lesson-of-the-day-the-machines-are-learning-and-so-are-the-students.html                   |In this lesson, students will learn about how A.I. is changing education and imagine how the machine learning revolution will shape the schools of the future.                      |[]                                                                                                                                                                                             |\n",
            "+--------------------------------------------------------------------------------------+--------+--------+---------------------------------------------------------------------------------------------------------------------------------------+------------------------------------------------------------------------------------------------------------------------------------------------------------------------------------+-----------------------------------------------------------------------------------------------------------------------------------------------------------------------------------------------+\n",
            "only showing top 20 rows\n",
            "\n"
          ]
        }
      ]
    },
    {
      "cell_type": "code",
      "source": [
        "df_text = df.select(['headline', 'snippet'])\n",
        "df_text.show()"
      ],
      "metadata": {
        "colab": {
          "base_uri": "https://localhost:8080/"
        },
        "id": "5g19BtagkmwY",
        "outputId": "f17b274f-0819-40f5-8bb5-f1c663d7e366"
      },
      "execution_count": 5,
      "outputs": [
        {
          "output_type": "stream",
          "name": "stdout",
          "text": [
            "+--------------------+--------------------+\n",
            "|            headline|             snippet|\n",
            "+--------------------+--------------------+\n",
            "|Already Had Plent...|He’s a bad show, ...|\n",
            "|Why Did One-Quart...|Swine fever devas...|\n",
            "|Coast Guard Suspe...|Two of seven crew...|\n",
            "|N.B.A. Superstars...|The longtime comm...|\n",
            "|In Rose Bowl Vict...|The Ducks managed...|\n",
            "|Where Darth Vader...|Ed Sessa turns th...|\n",
            "|Don Larsen, Yanke...|He retired after ...|\n",
            "|No Corrections: J...|No corrections ap...|\n",
            "|India Cold Wave B...|Across the north,...|\n",
            "|Quotation of the ...|Quotation of the ...|\n",
            "|Head-Scarf Ban an...|After months of t...|\n",
            "|Your Thursday Bri...|Austria, Australi...|\n",
            "|What’s on TV Thur...|A drama based on ...|\n",
            "|Word + Quiz: subsume|This word has app...|\n",
            "|Taiwan’s Top Mili...|The helicopter wa...|\n",
            "|  New Year, New You?|What are your res...|\n",
            "|‘Surviving R. Kel...|A new Lifetime se...|\n",
            "|How David Stern N...|Stern was known a...|\n",
            "|Flash Floods in I...|At least 43 peopl...|\n",
            "|Lesson of the Day...|In this lesson, s...|\n",
            "+--------------------+--------------------+\n",
            "only showing top 20 rows\n",
            "\n"
          ]
        }
      ]
    },
    {
      "cell_type": "code",
      "source": [
        "!pip install vaderSentiment\n",
        "from vaderSentiment.vaderSentiment import SentimentIntensityAnalyzer"
      ],
      "metadata": {
        "colab": {
          "base_uri": "https://localhost:8080/"
        },
        "id": "wdmmYFFGlOy4",
        "outputId": "eabe4ce3-8491-4d6f-aad9-c4f0da2a31de"
      },
      "execution_count": 6,
      "outputs": [
        {
          "output_type": "stream",
          "name": "stdout",
          "text": [
            "Requirement already satisfied: vaderSentiment in /usr/local/lib/python3.7/dist-packages (3.3.2)\n",
            "Requirement already satisfied: requests in /usr/local/lib/python3.7/dist-packages (from vaderSentiment) (2.23.0)\n",
            "Requirement already satisfied: chardet<4,>=3.0.2 in /usr/local/lib/python3.7/dist-packages (from requests->vaderSentiment) (3.0.4)\n",
            "Requirement already satisfied: certifi>=2017.4.17 in /usr/local/lib/python3.7/dist-packages (from requests->vaderSentiment) (2021.10.8)\n",
            "Requirement already satisfied: urllib3!=1.25.0,!=1.25.1,<1.26,>=1.21.1 in /usr/local/lib/python3.7/dist-packages (from requests->vaderSentiment) (1.24.3)\n",
            "Requirement already satisfied: idna<3,>=2.5 in /usr/local/lib/python3.7/dist-packages (from requests->vaderSentiment) (2.10)\n"
          ]
        }
      ]
    },
    {
      "cell_type": "code",
      "source": [
        "from pyspark.sql.functions import udf\n",
        "from pyspark.sql.types import FloatType\n",
        "analyser = SentimentIntensityAnalyzer()\n",
        "vader_udf = udf(lambda text: analyser.polarity_scores(text).get('pos'), FloatType())\n"
      ],
      "metadata": {
        "id": "kODpa_xClRPi"
      },
      "execution_count": 7,
      "outputs": []
    },
    {
      "cell_type": "code",
      "source": [
        "df_pos_sentiment = df_text.withColumn(\"positivity\", vader_udf(\"snippet\"))\n",
        "df_pos_sentiment.show()"
      ],
      "metadata": {
        "colab": {
          "base_uri": "https://localhost:8080/"
        },
        "id": "kOX0JfM0lUZq",
        "outputId": "ee0d13f1-2197-4fc7-dba6-4bde4fee4515"
      },
      "execution_count": 8,
      "outputs": [
        {
          "output_type": "stream",
          "name": "stdout",
          "text": [
            "+--------------------+--------------------+----------+\n",
            "|            headline|             snippet|positivity|\n",
            "+--------------------+--------------------+----------+\n",
            "|Already Had Plent...|He’s a bad show, ...|       0.0|\n",
            "|Why Did One-Quart...|Swine fever devas...|       0.0|\n",
            "|Coast Guard Suspe...|Two of seven crew...|     0.109|\n",
            "|N.B.A. Superstars...|The longtime comm...|     0.057|\n",
            "|In Rose Bowl Vict...|The Ducks managed...|     0.135|\n",
            "|Where Darth Vader...|Ed Sessa turns th...|       0.0|\n",
            "|Don Larsen, Yanke...|He retired after ...|     0.175|\n",
            "|No Corrections: J...|No corrections ap...|       0.0|\n",
            "|India Cold Wave B...|Across the north,...|       0.0|\n",
            "|Quotation of the ...|Quotation of the ...|       0.0|\n",
            "|Head-Scarf Ban an...|After months of t...|     0.084|\n",
            "|Your Thursday Bri...|Austria, Australi...|       0.0|\n",
            "|What’s on TV Thur...|A drama based on ...|       0.0|\n",
            "|Word + Quiz: subsume|This word has app...|       0.0|\n",
            "|Taiwan’s Top Mili...|The helicopter wa...|       0.0|\n",
            "|  New Year, New You?|What are your res...|       0.0|\n",
            "|‘Surviving R. Kel...|A new Lifetime se...|       0.0|\n",
            "|How David Stern N...|Stern was known a...|     0.086|\n",
            "|Flash Floods in I...|At least 43 peopl...|      0.06|\n",
            "|Lesson of the Day...|In this lesson, s...|       0.0|\n",
            "+--------------------+--------------------+----------+\n",
            "only showing top 20 rows\n",
            "\n"
          ]
        }
      ]
    },
    {
      "cell_type": "code",
      "source": [
        "vader_neg_udf = udf(lambda text: analyser.polarity_scores(text).get('neg'), FloatType())"
      ],
      "metadata": {
        "id": "1Edpj35rlbue"
      },
      "execution_count": 9,
      "outputs": []
    },
    {
      "cell_type": "code",
      "source": [
        "df_neg_sentiment = df_text.withColumn(\"negativity\", vader_neg_udf(\"snippet\"))\n",
        "df_neg_sentiment.show()"
      ],
      "metadata": {
        "colab": {
          "base_uri": "https://localhost:8080/"
        },
        "id": "rvToLeRQmKhO",
        "outputId": "b662667e-3aa0-42af-a2d0-807c864aed46"
      },
      "execution_count": 10,
      "outputs": [
        {
          "output_type": "stream",
          "name": "stdout",
          "text": [
            "+--------------------+--------------------+----------+\n",
            "|            headline|             snippet|negativity|\n",
            "+--------------------+--------------------+----------+\n",
            "|Already Had Plent...|He’s a bad show, ...|     0.243|\n",
            "|Why Did One-Quart...|Swine fever devas...|     0.343|\n",
            "|Coast Guard Suspe...|Two of seven crew...|       0.0|\n",
            "|N.B.A. Superstars...|The longtime comm...|     0.194|\n",
            "|In Rose Bowl Vict...|The Ducks managed...|     0.082|\n",
            "|Where Darth Vader...|Ed Sessa turns th...|       0.0|\n",
            "|Don Larsen, Yanke...|He retired after ...|     0.062|\n",
            "|No Corrections: J...|No corrections ap...|     0.196|\n",
            "|India Cold Wave B...|Across the north,...|       0.0|\n",
            "|Quotation of the ...|Quotation of the ...|       0.0|\n",
            "|Head-Scarf Ban an...|After months of t...|       0.0|\n",
            "|Your Thursday Bri...|Austria, Australi...|       0.0|\n",
            "|What’s on TV Thur...|A drama based on ...|       0.0|\n",
            "|Word + Quiz: subsume|This word has app...|       0.0|\n",
            "|Taiwan’s Top Mili...|The helicopter wa...|       0.0|\n",
            "|  New Year, New You?|What are your res...|       0.0|\n",
            "|‘Surviving R. Kel...|A new Lifetime se...|     0.255|\n",
            "|How David Stern N...|Stern was known a...|     0.086|\n",
            "|Flash Floods in I...|At least 43 peopl...|     0.226|\n",
            "|Lesson of the Day...|In this lesson, s...|       0.0|\n",
            "+--------------------+--------------------+----------+\n",
            "only showing top 20 rows\n",
            "\n"
          ]
        }
      ]
    }
  ]
}