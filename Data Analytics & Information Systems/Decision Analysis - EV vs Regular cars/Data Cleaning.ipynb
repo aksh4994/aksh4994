{
 "cells": [
  {
   "cell_type": "markdown",
   "metadata": {},
   "source": [
    "### Import Libraries"
   ]
  },
  {
   "cell_type": "code",
   "execution_count": 97,
   "metadata": {},
   "outputs": [],
   "source": [
    "import pandas as pd\n",
    "import numpy as np\n",
    "import math\n",
    "import matplotlib.pyplot as plt\n",
    "%matplotlib inline"
   ]
  },
  {
   "cell_type": "markdown",
   "metadata": {},
   "source": [
    "### Ingest data into Dataframe"
   ]
  },
  {
   "cell_type": "markdown",
   "metadata": {},
   "source": [
    "### Electricity price monthly data"
   ]
  },
  {
   "cell_type": "code",
   "execution_count": 82,
   "metadata": {},
   "outputs": [],
   "source": [
    "FILE_PATH = '/Users/apoor/Desktop/Anjali/MSDAIS/Analytics/Assignments/Project/'"
   ]
  },
  {
   "cell_type": "code",
   "execution_count": 89,
   "metadata": {},
   "outputs": [
    {
     "data": {
      "text/plain": [
       "Year              datetime64[ns]\n",
       "Gasoline Price           float64\n",
       "dtype: object"
      ]
     },
     "execution_count": 89,
     "metadata": {},
     "output_type": "execute_result"
    }
   ],
   "source": [
    "df_electricity = pd.read_csv(FILE_PATH + 'Retail_sales_of_electricity_monthly.csv',skiprows = 4)\n",
    "df_gasoline.dtypes"
   ]
  },
  {
   "cell_type": "markdown",
   "metadata": {},
   "source": [
    "### Gasoline price monthly data"
   ]
  },
  {
   "cell_type": "code",
   "execution_count": 88,
   "metadata": {},
   "outputs": [
    {
     "data": {
      "text/plain": [
       "Year              datetime64[ns]\n",
       "Gasoline Price           float64\n",
       "dtype: object"
      ]
     },
     "execution_count": 88,
     "metadata": {},
     "output_type": "execute_result"
    }
   ],
   "source": [
    "df_gasoline = pd.read_excel(FILE_PATH + 'Retail_sales_of_gasoline_monthly.xlsx',skiprows = 9)\n",
    "df_gasoline.dtypes"
   ]
  },
  {
   "cell_type": "markdown",
   "metadata": {},
   "source": [
    "### Data Cleaning"
   ]
  },
  {
   "cell_type": "code",
   "execution_count": 102,
   "metadata": {},
   "outputs": [
    {
     "name": "stdout",
     "output_type": "stream",
     "text": [
      "Month                0\n",
      "Electricity Price    0\n",
      "dtype: int64\n",
      "\n",
      "Year              0\n",
      "Gasoline Price    0\n",
      "dtype: int64\n"
     ]
    }
   ],
   "source": [
    "# Missing data, Outliers, Correcting data types\n",
    "\n",
    "#Check isnull\n",
    "print(df_electricity.isnull().sum())\n",
    "print()\n",
    "print(df_gasoline.isnull().sum())"
   ]
  },
  {
   "cell_type": "code",
   "execution_count": 112,
   "metadata": {},
   "outputs": [
    {
     "name": "stdout",
     "output_type": "stream",
     "text": [
      "      Month  Electricity Price\n",
      "0    Jan-21        321218.7318\n",
      "1    Dec-20        310827.6381\n",
      "2    Nov-20        272926.1893\n",
      "3    Oct-20        292142.2744\n",
      "4    Sep-20        318002.0696\n",
      "..      ...                ...\n",
      "236  May-01        264490.4917\n",
      "237  Apr-01        254390.9355\n",
      "238  Mar-01        269298.4014\n",
      "239  Feb-01        272334.7380\n",
      "240  Jan-01        310816.0688\n",
      "\n",
      "[241 rows x 2 columns]\n",
      "      Month  Electricity Price\n",
      "0    Jan-21        321218.7318\n",
      "1    Dec-20        310827.6381\n",
      "2    Nov-20        272926.1893\n",
      "3    Oct-20        292142.2744\n",
      "4    Sep-20        318002.0696\n",
      "..      ...                ...\n",
      "236  May-01        264490.4917\n",
      "237  Apr-01        254390.9355\n",
      "238  Mar-01        269298.4014\n",
      "239  Feb-01        272334.7380\n",
      "240  Jan-01        310816.0688\n",
      "\n",
      "[241 rows x 2 columns]\n",
      "          Year  Gasoline Price\n",
      "0   2001-01-01           1.403\n",
      "1   2001-02-01           1.459\n",
      "2   2001-03-01           1.416\n",
      "3   2001-04-01           1.555\n",
      "4   2001-05-01           1.693\n",
      "..         ...             ...\n",
      "236 2020-09-01           1.893\n",
      "237 2020-10-01           1.833\n",
      "238 2020-11-01           1.766\n",
      "239 2020-12-01           1.885\n",
      "240 2021-01-01           2.065\n",
      "\n",
      "[241 rows x 2 columns]\n",
      "\n",
      "          Year  Gasoline Price\n",
      "0   2001-01-01           1.403\n",
      "1   2001-02-01           1.459\n",
      "2   2001-03-01           1.416\n",
      "3   2001-04-01           1.555\n",
      "4   2001-05-01           1.693\n",
      "..         ...             ...\n",
      "236 2020-09-01           1.893\n",
      "237 2020-10-01           1.833\n",
      "238 2020-11-01           1.766\n",
      "239 2020-12-01           1.885\n",
      "240 2021-01-01           2.065\n",
      "\n",
      "[241 rows x 2 columns]\n"
     ]
    }
   ],
   "source": [
    "#Drop nan values\n",
    "print(df_electricity)\n",
    "df_electricity_clean = df_electricity.dropna()\n",
    "print(df_electricity_clean)\n",
    "print(df_gasoline)\n",
    "print()\n",
    "df_gasoline_clean = df_gasoline.dropna()\n",
    "print(df_gasoline_clean)"
   ]
  },
  {
   "cell_type": "code",
   "execution_count": 113,
   "metadata": {},
   "outputs": [
    {
     "data": {
      "text/html": [
       "<div>\n",
       "<style scoped>\n",
       "    .dataframe tbody tr th:only-of-type {\n",
       "        vertical-align: middle;\n",
       "    }\n",
       "\n",
       "    .dataframe tbody tr th {\n",
       "        vertical-align: top;\n",
       "    }\n",
       "\n",
       "    .dataframe thead th {\n",
       "        text-align: right;\n",
       "    }\n",
       "</style>\n",
       "<table border=\"1\" class=\"dataframe\">\n",
       "  <thead>\n",
       "    <tr style=\"text-align: right;\">\n",
       "      <th></th>\n",
       "      <th>Month</th>\n",
       "      <th>Electricity Price</th>\n",
       "    </tr>\n",
       "  </thead>\n",
       "  <tbody>\n",
       "    <tr>\n",
       "      <th>0</th>\n",
       "      <td>Jan-21</td>\n",
       "      <td>321218.7318</td>\n",
       "    </tr>\n",
       "    <tr>\n",
       "      <th>1</th>\n",
       "      <td>Dec-20</td>\n",
       "      <td>310827.6381</td>\n",
       "    </tr>\n",
       "    <tr>\n",
       "      <th>2</th>\n",
       "      <td>Nov-20</td>\n",
       "      <td>272926.1893</td>\n",
       "    </tr>\n",
       "    <tr>\n",
       "      <th>3</th>\n",
       "      <td>Oct-20</td>\n",
       "      <td>292142.2744</td>\n",
       "    </tr>\n",
       "    <tr>\n",
       "      <th>4</th>\n",
       "      <td>Sep-20</td>\n",
       "      <td>318002.0696</td>\n",
       "    </tr>\n",
       "    <tr>\n",
       "      <th>...</th>\n",
       "      <td>...</td>\n",
       "      <td>...</td>\n",
       "    </tr>\n",
       "    <tr>\n",
       "      <th>236</th>\n",
       "      <td>May-01</td>\n",
       "      <td>264490.4917</td>\n",
       "    </tr>\n",
       "    <tr>\n",
       "      <th>237</th>\n",
       "      <td>Apr-01</td>\n",
       "      <td>254390.9355</td>\n",
       "    </tr>\n",
       "    <tr>\n",
       "      <th>238</th>\n",
       "      <td>Mar-01</td>\n",
       "      <td>269298.4014</td>\n",
       "    </tr>\n",
       "    <tr>\n",
       "      <th>239</th>\n",
       "      <td>Feb-01</td>\n",
       "      <td>272334.7380</td>\n",
       "    </tr>\n",
       "    <tr>\n",
       "      <th>240</th>\n",
       "      <td>Jan-01</td>\n",
       "      <td>310816.0688</td>\n",
       "    </tr>\n",
       "  </tbody>\n",
       "</table>\n",
       "<p>241 rows × 2 columns</p>\n",
       "</div>"
      ],
      "text/plain": [
       "      Month  Electricity Price\n",
       "0    Jan-21        321218.7318\n",
       "1    Dec-20        310827.6381\n",
       "2    Nov-20        272926.1893\n",
       "3    Oct-20        292142.2744\n",
       "4    Sep-20        318002.0696\n",
       "..      ...                ...\n",
       "236  May-01        264490.4917\n",
       "237  Apr-01        254390.9355\n",
       "238  Mar-01        269298.4014\n",
       "239  Feb-01        272334.7380\n",
       "240  Jan-01        310816.0688\n",
       "\n",
       "[241 rows x 2 columns]"
      ]
     },
     "execution_count": 113,
     "metadata": {},
     "output_type": "execute_result"
    }
   ],
   "source": [
    "#To remove Electricity data outliers\n",
    "q1 = df_electricity_clean['Electricity Price'].quantile(0.25)\n",
    "q3 = df_electricity_clean['Electricity Price'].quantile(0.75)\n",
    "iqr = q3-q1 #Interquartile range\n",
    "fence_low  = q1-1.5*iqr\n",
    "fence_high = q3+1.5*iqr\n",
    "df_electricity_clean_out = df_electricity_clean.loc[(df_electricity_clean['Electricity Price'] > fence_low) & (df_electricity_clean['Electricity Price'] < fence_high)]\n",
    "df_electricity_clean_out"
   ]
  },
  {
   "cell_type": "code",
   "execution_count": 114,
   "metadata": {},
   "outputs": [
    {
     "data": {
      "text/html": [
       "<div>\n",
       "<style scoped>\n",
       "    .dataframe tbody tr th:only-of-type {\n",
       "        vertical-align: middle;\n",
       "    }\n",
       "\n",
       "    .dataframe tbody tr th {\n",
       "        vertical-align: top;\n",
       "    }\n",
       "\n",
       "    .dataframe thead th {\n",
       "        text-align: right;\n",
       "    }\n",
       "</style>\n",
       "<table border=\"1\" class=\"dataframe\">\n",
       "  <thead>\n",
       "    <tr style=\"text-align: right;\">\n",
       "      <th></th>\n",
       "      <th>Year</th>\n",
       "      <th>Gasoline Price</th>\n",
       "    </tr>\n",
       "  </thead>\n",
       "  <tbody>\n",
       "    <tr>\n",
       "      <th>0</th>\n",
       "      <td>2001-01-01</td>\n",
       "      <td>1.403</td>\n",
       "    </tr>\n",
       "    <tr>\n",
       "      <th>1</th>\n",
       "      <td>2001-02-01</td>\n",
       "      <td>1.459</td>\n",
       "    </tr>\n",
       "    <tr>\n",
       "      <th>2</th>\n",
       "      <td>2001-03-01</td>\n",
       "      <td>1.416</td>\n",
       "    </tr>\n",
       "    <tr>\n",
       "      <th>3</th>\n",
       "      <td>2001-04-01</td>\n",
       "      <td>1.555</td>\n",
       "    </tr>\n",
       "    <tr>\n",
       "      <th>4</th>\n",
       "      <td>2001-05-01</td>\n",
       "      <td>1.693</td>\n",
       "    </tr>\n",
       "    <tr>\n",
       "      <th>...</th>\n",
       "      <td>...</td>\n",
       "      <td>...</td>\n",
       "    </tr>\n",
       "    <tr>\n",
       "      <th>236</th>\n",
       "      <td>2020-09-01</td>\n",
       "      <td>1.893</td>\n",
       "    </tr>\n",
       "    <tr>\n",
       "      <th>237</th>\n",
       "      <td>2020-10-01</td>\n",
       "      <td>1.833</td>\n",
       "    </tr>\n",
       "    <tr>\n",
       "      <th>238</th>\n",
       "      <td>2020-11-01</td>\n",
       "      <td>1.766</td>\n",
       "    </tr>\n",
       "    <tr>\n",
       "      <th>239</th>\n",
       "      <td>2020-12-01</td>\n",
       "      <td>1.885</td>\n",
       "    </tr>\n",
       "    <tr>\n",
       "      <th>240</th>\n",
       "      <td>2021-01-01</td>\n",
       "      <td>2.065</td>\n",
       "    </tr>\n",
       "  </tbody>\n",
       "</table>\n",
       "<p>241 rows × 2 columns</p>\n",
       "</div>"
      ],
      "text/plain": [
       "          Year  Gasoline Price\n",
       "0   2001-01-01           1.403\n",
       "1   2001-02-01           1.459\n",
       "2   2001-03-01           1.416\n",
       "3   2001-04-01           1.555\n",
       "4   2001-05-01           1.693\n",
       "..         ...             ...\n",
       "236 2020-09-01           1.893\n",
       "237 2020-10-01           1.833\n",
       "238 2020-11-01           1.766\n",
       "239 2020-12-01           1.885\n",
       "240 2021-01-01           2.065\n",
       "\n",
       "[241 rows x 2 columns]"
      ]
     },
     "execution_count": 114,
     "metadata": {},
     "output_type": "execute_result"
    }
   ],
   "source": [
    "#To remove Gasoline data outliers\n",
    "quat1 = df_gasoline_clean['Gasoline Price'].quantile(0.25)\n",
    "quat3 = df_gasoline_clean['Gasoline Price'].quantile(0.75)\n",
    "iqrg = quat3-quat1 #Interquartile range\n",
    "low  = quat1-1.5*iqrg\n",
    "high = quat3+1.5*iqrg\n",
    "df_gasoline_clean_out = df_gasoline_clean.loc[(df_gasoline_clean['Gasoline Price'] > low) & (df_gasoline_clean['Gasoline Price'] < high)]\n",
    "df_gasoline_clean_out"
   ]
  },
  {
   "cell_type": "code",
   "execution_count": null,
   "metadata": {},
   "outputs": [],
   "source": []
  }
 ],
 "metadata": {
  "kernelspec": {
   "display_name": "Python 3",
   "language": "python",
   "name": "python3"
  },
  "language_info": {
   "codemirror_mode": {
    "name": "ipython",
    "version": 3
   },
   "file_extension": ".py",
   "mimetype": "text/x-python",
   "name": "python",
   "nbconvert_exporter": "python",
   "pygments_lexer": "ipython3",
   "version": "3.8.5"
  }
 },
 "nbformat": 4,
 "nbformat_minor": 4
}
