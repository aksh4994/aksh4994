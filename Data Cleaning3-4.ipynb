{
 "cells": [
  {
   "cell_type": "markdown",
   "metadata": {},
   "source": [
    "### Import Libraries"
   ]
  },
  {
   "cell_type": "code",
   "execution_count": 1,
   "metadata": {},
   "outputs": [],
   "source": [
    "import pandas as pd\n",
    "import numpy as np\n",
    "import math\n",
    "import matplotlib.pyplot as plt\n",
    "%matplotlib inline\n",
    "import os\n",
    "from scipy import stats"
   ]
  },
  {
   "cell_type": "markdown",
   "metadata": {},
   "source": [
    "### Ingest data into Dataframe"
   ]
  },
  {
   "cell_type": "markdown",
   "metadata": {},
   "source": [
    "### Electricity price monthly data"
   ]
  },
  {
   "cell_type": "code",
   "execution_count": 2,
   "metadata": {},
   "outputs": [],
   "source": [
    "#FILE_PATH = '/Users/apoor/Desktop/Anjali/MSDAIS/Analytics/Assignments/Project/'\n",
    "FILE_PATH = (r'\\Users\\harsh\\Desktop\\Analytics\\Group Project/')"
   ]
  },
  {
   "cell_type": "code",
   "execution_count": 2,
   "metadata": {},
   "outputs": [
    {
     "data": {
      "text/plain": [
       "Month                 object\n",
       "Electricity_Price    float64\n",
       "dtype: object"
      ]
     },
     "execution_count": 2,
     "metadata": {},
     "output_type": "execute_result"
    }
   ],
   "source": [
    "df_electricity = pd.read_csv('Average_retail_price_of_electricity_monthly_py.csv')\n",
    "df_electricity.dtypes"
   ]
  },
  {
   "cell_type": "markdown",
   "metadata": {},
   "source": [
    "### Gasoline price monthly data"
   ]
  },
  {
   "cell_type": "code",
   "execution_count": 4,
   "metadata": {},
   "outputs": [
    {
     "data": {
      "text/plain": [
       "Year              datetime64[ns]\n",
       "Gasoline Price           float64\n",
       "dtype: object"
      ]
     },
     "execution_count": 4,
     "metadata": {},
     "output_type": "execute_result"
    }
   ],
   "source": [
    "df_gasoline = pd.read_excel(FILE_PATH + 'Retail_sales_of_gasoline_monthly.xlsx',skiprows = 9)\n",
    "df_gasoline.dtypes"
   ]
  },
  {
   "cell_type": "markdown",
   "metadata": {},
   "source": [
    "### Data Cleaning"
   ]
  },
  {
   "cell_type": "code",
   "execution_count": 4,
   "metadata": {},
   "outputs": [
    {
     "name": "stdout",
     "output_type": "stream",
     "text": [
      "Month                0\n",
      "Electricity_Price    0\n",
      "dtype: int64\n",
      "\n"
     ]
    }
   ],
   "source": [
    "# Missing data, Outliers, Correcting data types\n",
    "\n",
    "#Check isnull\n",
    "print(df_electricity.isnull().sum())\n",
    "print()\n",
    "print(df_gasoline.isnull().sum())"
   ]
  },
  {
   "cell_type": "code",
   "execution_count": 5,
   "metadata": {},
   "outputs": [
    {
     "name": "stdout",
     "output_type": "stream",
     "text": [
      "         Month  Electricity_Price\n",
      "0     1/1/2001               7.73\n",
      "1     2/1/2001               8.04\n",
      "2     3/1/2001               8.32\n",
      "3     4/1/2001               8.46\n",
      "4     5/1/2001               8.83\n",
      "..         ...                ...\n",
      "237  10/1/2020              13.70\n",
      "238  11/1/2020              13.35\n",
      "239  12/1/2020              12.80\n",
      "240   1/1/2021              12.69\n",
      "241   2/1/2021              13.34\n",
      "\n",
      "[242 rows x 2 columns]\n",
      "         Month  Electricity_Price\n",
      "0     1/1/2001               7.73\n",
      "1     2/1/2001               8.04\n",
      "2     3/1/2001               8.32\n",
      "3     4/1/2001               8.46\n",
      "4     5/1/2001               8.83\n",
      "..         ...                ...\n",
      "237  10/1/2020              13.70\n",
      "238  11/1/2020              13.35\n",
      "239  12/1/2020              12.80\n",
      "240   1/1/2021              12.69\n",
      "241   2/1/2021              13.34\n",
      "\n",
      "[242 rows x 2 columns]\n",
      "\n"
     ]
    }
   ],
   "source": [
    "#Drop nan values\n",
    "print(df_electricity)\n",
    "df_electricity_clean = df_electricity.dropna()\n",
    "print(df_electricity_clean)\n",
    "# print(df_gasoline)\n",
    "print()\n",
    "df_gasoline_clean = df_gasoline.dropna()\n",
    "print(df_gasoline_clean)"
   ]
  },
  {
   "cell_type": "code",
   "execution_count": 8,
   "metadata": {},
   "outputs": [
    {
     "name": "stdout",
     "output_type": "stream",
     "text": [
      "9.8475\n",
      "2.8324999999999996\n",
      "12.68\n"
     ]
    }
   ],
   "source": [
    "#To remove Electricity data outliers\n",
    "q1 = df_electricity_clean['Electricity_Price'].quantile(0.25)\n",
    "q3 = df_electricity_clean['Electricity_Price'].quantile(0.75)\n",
    "iqr = q3-q1 #Interquartile range\n",
    "fence_low  = q1-1.5*iqr\n",
    "fence_high = q3+1.5*iqr\n",
    "df_electricity_clean_out = df_electricity_clean.loc[(df_electricity_clean['Electricity_Price'] > fence_low) & (df_electricity_clean['Electricity_Price'] < fence_high)]\n",
    "df_electricity_clean_out\n",
    "print(q1)\n",
    "print(iqr)\n",
    "print(q3)"
   ]
  },
  {
   "cell_type": "code",
   "execution_count": 8,
   "metadata": {},
   "outputs": [
    {
     "name": "stdout",
     "output_type": "stream",
     "text": [
      "1.893\n",
      "1.0410000000000001\n",
      "2.934\n"
     ]
    }
   ],
   "source": [
    "#To remove Gasoline data outliers\n",
    "quat1 = df_gasoline_clean['Gasoline Price'].quantile(0.25)\n",
    "quat3 = df_gasoline_clean['Gasoline Price'].quantile(0.75)\n",
    "iqrg = quat3-quat1 #Interquartile range\n",
    "low  = quat1-1.5*iqrg\n",
    "high = quat3+1.5*iqrg\n",
    "df_gasoline_clean_out = df_gasoline_clean.loc[(df_gasoline_clean['Gasoline Price'] > low) & (df_gasoline_clean['Gasoline Price'] < high)]\n",
    "df_gasoline_clean_out\n",
    "print(quat1)\n",
    "print(iqrg)\n",
    "print(quat3)"
   ]
  },
  {
   "cell_type": "code",
   "execution_count": null,
   "metadata": {},
   "outputs": [],
   "source": []
  },
  {
   "cell_type": "markdown",
   "metadata": {},
   "source": [
    "## Electricity Boxplot"
   ]
  },
  {
   "cell_type": "code",
   "execution_count": 9,
   "metadata": {},
   "outputs": [],
   "source": [
    "L2 = df_electricity_clean['Electricity_Price']"
   ]
  },
  {
   "cell_type": "code",
   "execution_count": 10,
   "metadata": {},
   "outputs": [
    {
     "data": {
      "image/png": "[encoded data removed]",
      "text/plain": [
       "<Figure size 432x288 with 1 Axes>"
      ]
     },
     "metadata": {
      "needs_background": "light"
     },
     "output_type": "display_data"
    }
   ],
   "source": [
    "plt.boxplot(L2, vert=False, manage_ticks = True, widths = 0.9, patch_artist = True, showfliers= True, )\n",
    "plt.xlabel('Electricity Price')\n",
    "plt.show()"
   ]
  },
  {
   "cell_type": "markdown",
   "metadata": {},
   "source": [
    "## Electricity Boxplot\n",
    "\n",
    "### 1. IQR is approximately 300000. \n",
    "### 2. Q1 is approximately 285000. It means that at least 25% of the time the electricity price has been 285000.\n",
    "### 3. Q3 is approximately 325000. It can be inferred that the electricity price has been approximately 325000.\n",
    "### 4. The box plot is positive skewed, the data is concentrated on the right. That means the mean is greater than the median. The average electricity price is more than the median"
   ]
  },
  {
   "cell_type": "code",
   "execution_count": 11,
   "metadata": {},
   "outputs": [
    {
     "data": {
      "text/plain": [
       "Electricity Price    306706.876001\n",
       "dtype: float64"
      ]
     },
     "execution_count": 11,
     "metadata": {},
     "output_type": "execute_result"
    }
   ],
   "source": [
    "df_electricity_clean.mean()"
   ]
  },
  {
   "cell_type": "code",
   "execution_count": 12,
   "metadata": {},
   "outputs": [
    {
     "data": {
      "text/plain": [
       "Electricity Price    300119.1567\n",
       "dtype: float64"
      ]
     },
     "execution_count": 12,
     "metadata": {},
     "output_type": "execute_result"
    }
   ],
   "source": [
    "df_electricity_clean.median()"
   ]
  },
  {
   "cell_type": "markdown",
   "metadata": {},
   "source": [
    "## Gasoline Boxplot"
   ]
  },
  {
   "cell_type": "code",
   "execution_count": 13,
   "metadata": {},
   "outputs": [],
   "source": [
    "L3 = df_gasoline_clean['Gasoline Price']"
   ]
  },
  {
   "cell_type": "code",
   "execution_count": 14,
   "metadata": {},
   "outputs": [
    {
     "data": {
      "image/png": "[encoded data removed]",
      "text/plain": [
       "<Figure size 432x288 with 1 Axes>"
      ]
     },
     "metadata": {
      "needs_background": "light"
     },
     "output_type": "display_data"
    }
   ],
   "source": [
    "plt.boxplot(L3, vert=False, manage_ticks = True, widths = 0.9, patch_artist = True, showfliers= True, )\n",
    "plt.xlabel('Gasoline Price')\n",
    "plt.show()"
   ]
  },
  {
   "cell_type": "markdown",
   "metadata": {},
   "source": [
    "## Gasoline Boxplot\n",
    "\n",
    "### 1. IQR is approximately 2.3. \n",
    "### 2. Q1 is approximately 1.9. It means that at least 25% of the time the gasoline price has been 1.9 or close to 2.\n",
    "### 3. Q3 is approximately 2.95. It can be inferred 75% of the time the electricity price has been approximately 2.95 or 3.\n",
    "### 4. The box plot is positive skewed, the data is concentrated on the right. That means the mean is greater than the median. The average gasoline price is more than the median."
   ]
  },
  {
   "cell_type": "code",
   "execution_count": 15,
   "metadata": {},
   "outputs": [
    {
     "name": "stderr",
     "output_type": "stream",
     "text": [
      "<ipython-input-15-e5826c191ae7>:1: FutureWarning: DataFrame.mean and DataFrame.median with numeric_only=None will include datetime64 and datetime64tz columns in a future version.\n",
      "  df_gasoline_clean.mean()\n"
     ]
    },
    {
     "data": {
      "text/plain": [
       "Gasoline Price    2.407427\n",
       "dtype: float64"
      ]
     },
     "execution_count": 15,
     "metadata": {},
     "output_type": "execute_result"
    }
   ],
   "source": [
    "df_gasoline_clean.mean()"
   ]
  },
  {
   "cell_type": "code",
   "execution_count": 16,
   "metadata": {},
   "outputs": [
    {
     "name": "stderr",
     "output_type": "stream",
     "text": [
      "<ipython-input-16-9f7fbc8040d5>:1: FutureWarning: DataFrame.mean and DataFrame.median with numeric_only=None will include datetime64 and datetime64tz columns in a future version.\n",
      "  df_gasoline_clean.median()\n"
     ]
    },
    {
     "data": {
      "text/plain": [
       "Gasoline Price    2.299\n",
       "dtype: float64"
      ]
     },
     "execution_count": 16,
     "metadata": {},
     "output_type": "execute_result"
    }
   ],
   "source": [
    "df_gasoline_clean.median()"
   ]
  },
  {
   "cell_type": "markdown",
   "metadata": {},
   "source": [
    "## Histogram Electricity"
   ]
  },
  {
   "cell_type": "code",
   "execution_count": 36,
   "metadata": {},
   "outputs": [
    {
     "data": {
      "image/png": "[encoded data removed]",
      "text/plain": [
       "<Figure size 432x288 with 1 Axes>"
      ]
     },
     "metadata": {
      "needs_background": "light"
     },
     "output_type": "display_data"
    }
   ],
   "source": [
    "plt.ylabel('frequency')\n",
    "plt.xlabel('Electricity Price')\n",
    "plt.hist(L2)\n",
    "plt.show()"
   ]
  },
  {
   "cell_type": "code",
   "execution_count": null,
   "metadata": {},
   "outputs": [],
   "source": []
  },
  {
   "cell_type": "code",
   "execution_count": 18,
   "metadata": {},
   "outputs": [
    {
     "data": {
      "text/plain": [
       "Month                Apr-01\n",
       "Electricity Price    253034\n",
       "dtype: object"
      ]
     },
     "execution_count": 18,
     "metadata": {},
     "output_type": "execute_result"
    }
   ],
   "source": [
    "df_electricity_clean.min()"
   ]
  },
  {
   "cell_type": "code",
   "execution_count": 19,
   "metadata": {},
   "outputs": [
    {
     "data": {
      "text/plain": [
       "Month                Sep-20\n",
       "Electricity Price    381192\n",
       "dtype: object"
      ]
     },
     "execution_count": 19,
     "metadata": {},
     "output_type": "execute_result"
    }
   ],
   "source": [
    "df_electricity_clean.max()"
   ]
  },
  {
   "cell_type": "code",
   "execution_count": 27,
   "metadata": {},
   "outputs": [
    {
     "data": {
      "text/plain": [
       "Month                241\n",
       "Electricity Price    241\n",
       "dtype: int64"
      ]
     },
     "execution_count": 27,
     "metadata": {},
     "output_type": "execute_result"
    }
   ],
   "source": [
    "df_electricity_clean.count()"
   ]
  },
  {
   "cell_type": "markdown",
   "metadata": {},
   "source": [
    "## Interpretations\n",
    "### 1. The minimum electricity price has been 253034 in the month of April in 2001.\n",
    "### 2. The maximimum price was in September 2020 which was 381192.\n",
    "### 3. "
   ]
  },
  {
   "cell_type": "markdown",
   "metadata": {},
   "source": [
    "## Histogram Gasoline"
   ]
  },
  {
   "cell_type": "code",
   "execution_count": 20,
   "metadata": {},
   "outputs": [
    {
     "data": {
      "image/png": "[encoded data removed]",
      "text/plain": [
       "<Figure size 432x288 with 1 Axes>"
      ]
     },
     "metadata": {
      "needs_background": "light"
     },
     "output_type": "display_data"
    }
   ],
   "source": [
    "plt.ylabel('frequency')\n",
    "plt.xlabel('Gasoline Price')\n",
    "plt.hist(L3)\n",
    "plt.show()"
   ]
  },
  {
   "cell_type": "code",
   "execution_count": 21,
   "metadata": {},
   "outputs": [
    {
     "data": {
      "text/plain": [
       "Year              2001-01-01 00:00:00\n",
       "Gasoline Price                  1.067\n",
       "dtype: object"
      ]
     },
     "execution_count": 21,
     "metadata": {},
     "output_type": "execute_result"
    }
   ],
   "source": [
    "df_gasoline_clean.min()"
   ]
  },
  {
   "cell_type": "code",
   "execution_count": 22,
   "metadata": {},
   "outputs": [
    {
     "data": {
      "text/plain": [
       "Year              2021-01-01 00:00:00\n",
       "Gasoline Price                  4.004\n",
       "dtype: object"
      ]
     },
     "execution_count": 22,
     "metadata": {},
     "output_type": "execute_result"
    }
   ],
   "source": [
    "df_gasoline_clean.max()"
   ]
  },
  {
   "cell_type": "markdown",
   "metadata": {},
   "source": [
    "## Interpretations\n",
    "### 1. The minimum gasoline price was 1.06 in the month of January 2001.\n",
    "### 2. The maximum price of gasoline was 4.004 in the month of January 2021.\n",
    "### 3. "
   ]
  },
  {
   "cell_type": "code",
   "execution_count": null,
   "metadata": {},
   "outputs": [],
   "source": []
  },
  {
   "cell_type": "code",
   "execution_count": 10,
   "metadata": {},
   "outputs": [
    {
     "data": {
      "text/html": [
       "<div>\n",
       "<style scoped>\n",
       "    .dataframe tbody tr th:only-of-type {\n",
       "        vertical-align: middle;\n",
       "    }\n",
       "\n",
       "    .dataframe tbody tr th {\n",
       "        vertical-align: top;\n",
       "    }\n",
       "\n",
       "    .dataframe thead th {\n",
       "        text-align: right;\n",
       "    }\n",
       "</style>\n",
       "<table border=\"1\" class=\"dataframe\">\n",
       "  <thead>\n",
       "    <tr style=\"text-align: right;\">\n",
       "      <th></th>\n",
       "      <th>Electricity_Price</th>\n",
       "    </tr>\n",
       "  </thead>\n",
       "  <tbody>\n",
       "    <tr>\n",
       "      <th>count</th>\n",
       "      <td>242.000000</td>\n",
       "    </tr>\n",
       "    <tr>\n",
       "      <th>mean</th>\n",
       "      <td>11.255207</td>\n",
       "    </tr>\n",
       "    <tr>\n",
       "      <th>std</th>\n",
       "      <td>1.638465</td>\n",
       "    </tr>\n",
       "    <tr>\n",
       "      <th>min</th>\n",
       "      <td>7.730000</td>\n",
       "    </tr>\n",
       "    <tr>\n",
       "      <th>25%</th>\n",
       "      <td>9.847500</td>\n",
       "    </tr>\n",
       "    <tr>\n",
       "      <th>50%</th>\n",
       "      <td>11.780000</td>\n",
       "    </tr>\n",
       "    <tr>\n",
       "      <th>75%</th>\n",
       "      <td>12.680000</td>\n",
       "    </tr>\n",
       "    <tr>\n",
       "      <th>max</th>\n",
       "      <td>13.700000</td>\n",
       "    </tr>\n",
       "  </tbody>\n",
       "</table>\n",
       "</div>"
      ],
      "text/plain": [
       "       Electricity_Price\n",
       "count         242.000000\n",
       "mean           11.255207\n",
       "std             1.638465\n",
       "min             7.730000\n",
       "25%             9.847500\n",
       "50%            11.780000\n",
       "75%            12.680000\n",
       "max            13.700000"
      ]
     },
     "execution_count": 10,
     "metadata": {},
     "output_type": "execute_result"
    }
   ],
   "source": [
    "df_electricity_clean.describe()"
   ]
  },
  {
   "cell_type": "code",
   "execution_count": 11,
   "metadata": {},
   "outputs": [
    {
     "name": "stdout",
     "output_type": "stream",
     "text": [
      "IQR = 2.83\n"
     ]
    }
   ],
   "source": [
    "eq1 = df_electricity_clean['Electricity_Price'].quantile(0.25)\n",
    "eq3 = df_electricity_clean['Electricity_Price'].quantile(0.75)\n",
    "eIQR = eq3 - eq1\n",
    "print(f\"IQR = {format(eIQR, '.2f')}\")"
   ]
  },
  {
   "cell_type": "code",
   "execution_count": 25,
   "metadata": {},
   "outputs": [
    {
     "data": {
      "text/html": [
       "<div>\n",
       "<style scoped>\n",
       "    .dataframe tbody tr th:only-of-type {\n",
       "        vertical-align: middle;\n",
       "    }\n",
       "\n",
       "    .dataframe tbody tr th {\n",
       "        vertical-align: top;\n",
       "    }\n",
       "\n",
       "    .dataframe thead th {\n",
       "        text-align: right;\n",
       "    }\n",
       "</style>\n",
       "<table border=\"1\" class=\"dataframe\">\n",
       "  <thead>\n",
       "    <tr style=\"text-align: right;\">\n",
       "      <th></th>\n",
       "      <th>Gasoline Price</th>\n",
       "    </tr>\n",
       "  </thead>\n",
       "  <tbody>\n",
       "    <tr>\n",
       "      <th>count</th>\n",
       "      <td>241.000000</td>\n",
       "    </tr>\n",
       "    <tr>\n",
       "      <th>mean</th>\n",
       "      <td>2.407427</td>\n",
       "    </tr>\n",
       "    <tr>\n",
       "      <th>std</th>\n",
       "      <td>0.705189</td>\n",
       "    </tr>\n",
       "    <tr>\n",
       "      <th>min</th>\n",
       "      <td>1.067000</td>\n",
       "    </tr>\n",
       "    <tr>\n",
       "      <th>25%</th>\n",
       "      <td>1.893000</td>\n",
       "    </tr>\n",
       "    <tr>\n",
       "      <th>50%</th>\n",
       "      <td>2.299000</td>\n",
       "    </tr>\n",
       "    <tr>\n",
       "      <th>75%</th>\n",
       "      <td>2.934000</td>\n",
       "    </tr>\n",
       "    <tr>\n",
       "      <th>max</th>\n",
       "      <td>4.004000</td>\n",
       "    </tr>\n",
       "  </tbody>\n",
       "</table>\n",
       "</div>"
      ],
      "text/plain": [
       "       Gasoline Price\n",
       "count      241.000000\n",
       "mean         2.407427\n",
       "std          0.705189\n",
       "min          1.067000\n",
       "25%          1.893000\n",
       "50%          2.299000\n",
       "75%          2.934000\n",
       "max          4.004000"
      ]
     },
     "execution_count": 25,
     "metadata": {},
     "output_type": "execute_result"
    }
   ],
   "source": [
    "df_gasoline_clean.describe()"
   ]
  },
  {
   "cell_type": "code",
   "execution_count": 26,
   "metadata": {},
   "outputs": [
    {
     "name": "stdout",
     "output_type": "stream",
     "text": [
      "IQR = 1.04\n"
     ]
    }
   ],
   "source": [
    "gq1 = df_gasoline_clean['Gasoline Price'].quantile(0.25)\n",
    "gq3 = df_gasoline_clean['Gasoline Price'].quantile(0.75)\n",
    "gIQR = gq3 - gq1\n",
    "print(f\"IQR = {format(gIQR, '.2f')}\")"
   ]
  },
  {
   "cell_type": "code",
   "execution_count": null,
   "metadata": {},
   "outputs": [],
   "source": []
  }
 ],
 "metadata": {
  "kernelspec": {
   "display_name": "Python 3",
   "language": "python",
   "name": "python3"
  },
  "language_info": {
   "codemirror_mode": {
    "name": "ipython",
    "version": 3
   },
   "file_extension": ".py",
   "mimetype": "text/x-python",
   "name": "python",
   "nbconvert_exporter": "python",
   "pygments_lexer": "ipython3",
   "version": "3.8.5"
  }
 },
 "nbformat": 4,
 "nbformat_minor": 4
}
